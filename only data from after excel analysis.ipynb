{
 "cells": [
  {
   "cell_type": "markdown",
   "metadata": {},
   "source": [
    "I want to try to get all the info from our dozens of languages, into one dataframe "
   ]
  },
  {
   "cell_type": "code",
   "execution_count": 1,
   "metadata": {},
   "outputs": [],
   "source": [
    "import pandas as pd\n",
    "import os\n",
    "from os import listdir\n",
    "from os.path import isfile, join"
   ]
  },
  {
   "cell_type": "code",
   "execution_count": 2,
   "metadata": {},
   "outputs": [],
   "source": [
    "mypath = os.getcwd()\n",
    "onlyXLfiles = [f for f in listdir(mypath) if isfile(join(mypath, f)) and f[-4:]==\"xlsx\" and f[:4] == \"lang\"]"
   ]
  },
  {
   "cell_type": "code",
   "execution_count": 3,
   "metadata": {},
   "outputs": [
    {
     "data": {
      "text/plain": [
       "list"
      ]
     },
     "execution_count": 3,
     "metadata": {},
     "output_type": "execute_result"
    }
   ],
   "source": [
    "type(onlyXLfiles)"
   ]
  },
  {
   "cell_type": "code",
   "execution_count": 4,
   "metadata": {},
   "outputs": [],
   "source": [
    "dfs = {}\n",
    "for f in onlyXLfiles:\n",
    "    xl = pd.ExcelFile(f)\n",
    "    dfs.update({f:pd.read_excel(xl, xl.sheet_names[0])})"
   ]
  },
  {
   "cell_type": "code",
   "execution_count": 5,
   "metadata": {},
   "outputs": [
    {
     "data": {
      "text/html": [
       "<div>\n",
       "<style scoped>\n",
       "    .dataframe tbody tr th:only-of-type {\n",
       "        vertical-align: middle;\n",
       "    }\n",
       "\n",
       "    .dataframe tbody tr th {\n",
       "        vertical-align: top;\n",
       "    }\n",
       "\n",
       "    .dataframe thead th {\n",
       "        text-align: right;\n",
       "    }\n",
       "</style>\n",
       "<table border=\"1\" class=\"dataframe\">\n",
       "  <thead>\n",
       "    <tr style=\"text-align: right;\">\n",
       "      <th></th>\n",
       "      <th>Unnamed: 0</th>\n",
       "      <th>Unnamed: 1</th>\n",
       "      <th>Unnamed: 2</th>\n",
       "      <th>Unnamed: 3</th>\n",
       "      <th>Unnamed: 4</th>\n",
       "      <th>Unnamed: 5</th>\n",
       "      <th>Unnamed: 6</th>\n",
       "      <th>Unnamed: 7</th>\n",
       "      <th>Unnamed: 8</th>\n",
       "      <th>Unnamed: 9</th>\n",
       "      <th>Unnamed: 10</th>\n",
       "      <th>Unnamed: 11</th>\n",
       "      <th>Unnamed: 12</th>\n",
       "      <th>Unnamed: 13</th>\n",
       "    </tr>\n",
       "  </thead>\n",
       "  <tbody>\n",
       "    <tr>\n",
       "      <th>0</th>\n",
       "      <td>NaN</td>\n",
       "      <td>NaN</td>\n",
       "      <td>NaN</td>\n",
       "      <td>NaN</td>\n",
       "      <td>NaN</td>\n",
       "      <td>NaN</td>\n",
       "      <td>NaN</td>\n",
       "      <td>NaN</td>\n",
       "      <td>NaN</td>\n",
       "      <td>NaN</td>\n",
       "      <td>NaN</td>\n",
       "      <td>NaN</td>\n",
       "      <td>NaN</td>\n",
       "      <td>NaN</td>\n",
       "    </tr>\n",
       "    <tr>\n",
       "      <th>1</th>\n",
       "      <td>ספירה של flo-mon</td>\n",
       "      <td>תוויות עמודה</td>\n",
       "      <td>NaN</td>\n",
       "      <td>NaN</td>\n",
       "      <td>NaN</td>\n",
       "      <td>NaN</td>\n",
       "      <td>NaN</td>\n",
       "      <td>NaN</td>\n",
       "      <td>עמודה1</td>\n",
       "      <td>1.00</td>\n",
       "      <td>2.000000</td>\n",
       "      <td>3.000000</td>\n",
       "      <td>4.000000</td>\n",
       "      <td>5.000000</td>\n",
       "    </tr>\n",
       "    <tr>\n",
       "      <th>2</th>\n",
       "      <td>תוויות שורה</td>\n",
       "      <td>1</td>\n",
       "      <td>2.0</td>\n",
       "      <td>3.0</td>\n",
       "      <td>4.0</td>\n",
       "      <td>5.0</td>\n",
       "      <td>סכום כולל</td>\n",
       "      <td>NaN</td>\n",
       "      <td>Monotonicity</td>\n",
       "      <td>1.00</td>\n",
       "      <td>0.857143</td>\n",
       "      <td>0.640777</td>\n",
       "      <td>0.574257</td>\n",
       "      <td>0.605484</td>\n",
       "    </tr>\n",
       "    <tr>\n",
       "      <th>3</th>\n",
       "      <td>0</td>\n",
       "      <td>NaN</td>\n",
       "      <td>7.0</td>\n",
       "      <td>37.0</td>\n",
       "      <td>86.0</td>\n",
       "      <td>705.0</td>\n",
       "      <td>835</td>\n",
       "      <td>NaN</td>\n",
       "      <td>Conservativity</td>\n",
       "      <td>0.75</td>\n",
       "      <td>0.510204</td>\n",
       "      <td>0.485437</td>\n",
       "      <td>0.277228</td>\n",
       "      <td>0.156128</td>\n",
       "    </tr>\n",
       "    <tr>\n",
       "      <th>4</th>\n",
       "      <td>1</td>\n",
       "      <td>4</td>\n",
       "      <td>42.0</td>\n",
       "      <td>66.0</td>\n",
       "      <td>116.0</td>\n",
       "      <td>1082.0</td>\n",
       "      <td>1310</td>\n",
       "      <td>NaN</td>\n",
       "      <td>All</td>\n",
       "      <td>0.75</td>\n",
       "      <td>0.510204</td>\n",
       "      <td>0.349515</td>\n",
       "      <td>0.202970</td>\n",
       "      <td>0.133744</td>\n",
       "    </tr>\n",
       "    <tr>\n",
       "      <th>5</th>\n",
       "      <td>סכום כולל</td>\n",
       "      <td>4</td>\n",
       "      <td>49.0</td>\n",
       "      <td>103.0</td>\n",
       "      <td>202.0</td>\n",
       "      <td>1787.0</td>\n",
       "      <td>2145</td>\n",
       "      <td>NaN</td>\n",
       "      <td>NaN</td>\n",
       "      <td>NaN</td>\n",
       "      <td>NaN</td>\n",
       "      <td>NaN</td>\n",
       "      <td>NaN</td>\n",
       "      <td>NaN</td>\n",
       "    </tr>\n",
       "    <tr>\n",
       "      <th>6</th>\n",
       "      <td>NaN</td>\n",
       "      <td>NaN</td>\n",
       "      <td>NaN</td>\n",
       "      <td>NaN</td>\n",
       "      <td>NaN</td>\n",
       "      <td>NaN</td>\n",
       "      <td>NaN</td>\n",
       "      <td>NaN</td>\n",
       "      <td>NaN</td>\n",
       "      <td>NaN</td>\n",
       "      <td>NaN</td>\n",
       "      <td>NaN</td>\n",
       "      <td>NaN</td>\n",
       "      <td>NaN</td>\n",
       "    </tr>\n",
       "    <tr>\n",
       "      <th>7</th>\n",
       "      <td>NaN</td>\n",
       "      <td>NaN</td>\n",
       "      <td>NaN</td>\n",
       "      <td>NaN</td>\n",
       "      <td>NaN</td>\n",
       "      <td>NaN</td>\n",
       "      <td>NaN</td>\n",
       "      <td>NaN</td>\n",
       "      <td>NaN</td>\n",
       "      <td>NaN</td>\n",
       "      <td>NaN</td>\n",
       "      <td>NaN</td>\n",
       "      <td>NaN</td>\n",
       "      <td>NaN</td>\n",
       "    </tr>\n",
       "    <tr>\n",
       "      <th>8</th>\n",
       "      <td>ספירה של flo-con</td>\n",
       "      <td>תוויות עמודה</td>\n",
       "      <td>NaN</td>\n",
       "      <td>NaN</td>\n",
       "      <td>NaN</td>\n",
       "      <td>NaN</td>\n",
       "      <td>NaN</td>\n",
       "      <td>NaN</td>\n",
       "      <td>NaN</td>\n",
       "      <td>NaN</td>\n",
       "      <td>NaN</td>\n",
       "      <td>NaN</td>\n",
       "      <td>NaN</td>\n",
       "      <td>NaN</td>\n",
       "    </tr>\n",
       "    <tr>\n",
       "      <th>9</th>\n",
       "      <td>תוויות שורה</td>\n",
       "      <td>1</td>\n",
       "      <td>2.0</td>\n",
       "      <td>3.0</td>\n",
       "      <td>4.0</td>\n",
       "      <td>5.0</td>\n",
       "      <td>סכום כולל</td>\n",
       "      <td>NaN</td>\n",
       "      <td>NaN</td>\n",
       "      <td>NaN</td>\n",
       "      <td>NaN</td>\n",
       "      <td>NaN</td>\n",
       "      <td>NaN</td>\n",
       "      <td>NaN</td>\n",
       "    </tr>\n",
       "    <tr>\n",
       "      <th>10</th>\n",
       "      <td>0</td>\n",
       "      <td>1</td>\n",
       "      <td>24.0</td>\n",
       "      <td>53.0</td>\n",
       "      <td>146.0</td>\n",
       "      <td>1508.0</td>\n",
       "      <td>1732</td>\n",
       "      <td>NaN</td>\n",
       "      <td>NaN</td>\n",
       "      <td>NaN</td>\n",
       "      <td>NaN</td>\n",
       "      <td>NaN</td>\n",
       "      <td>NaN</td>\n",
       "      <td>NaN</td>\n",
       "    </tr>\n",
       "    <tr>\n",
       "      <th>11</th>\n",
       "      <td>1</td>\n",
       "      <td>3</td>\n",
       "      <td>25.0</td>\n",
       "      <td>50.0</td>\n",
       "      <td>56.0</td>\n",
       "      <td>279.0</td>\n",
       "      <td>413</td>\n",
       "      <td>NaN</td>\n",
       "      <td>NaN</td>\n",
       "      <td>NaN</td>\n",
       "      <td>NaN</td>\n",
       "      <td>NaN</td>\n",
       "      <td>NaN</td>\n",
       "      <td>NaN</td>\n",
       "    </tr>\n",
       "    <tr>\n",
       "      <th>12</th>\n",
       "      <td>סכום כולל</td>\n",
       "      <td>4</td>\n",
       "      <td>49.0</td>\n",
       "      <td>103.0</td>\n",
       "      <td>202.0</td>\n",
       "      <td>1787.0</td>\n",
       "      <td>2145</td>\n",
       "      <td>NaN</td>\n",
       "      <td>NaN</td>\n",
       "      <td>NaN</td>\n",
       "      <td>NaN</td>\n",
       "      <td>NaN</td>\n",
       "      <td>NaN</td>\n",
       "      <td>NaN</td>\n",
       "    </tr>\n",
       "    <tr>\n",
       "      <th>13</th>\n",
       "      <td>NaN</td>\n",
       "      <td>NaN</td>\n",
       "      <td>NaN</td>\n",
       "      <td>NaN</td>\n",
       "      <td>NaN</td>\n",
       "      <td>NaN</td>\n",
       "      <td>NaN</td>\n",
       "      <td>NaN</td>\n",
       "      <td>NaN</td>\n",
       "      <td>NaN</td>\n",
       "      <td>NaN</td>\n",
       "      <td>NaN</td>\n",
       "      <td>NaN</td>\n",
       "      <td>NaN</td>\n",
       "    </tr>\n",
       "    <tr>\n",
       "      <th>14</th>\n",
       "      <td>NaN</td>\n",
       "      <td>NaN</td>\n",
       "      <td>NaN</td>\n",
       "      <td>NaN</td>\n",
       "      <td>NaN</td>\n",
       "      <td>NaN</td>\n",
       "      <td>NaN</td>\n",
       "      <td>NaN</td>\n",
       "      <td>NaN</td>\n",
       "      <td>NaN</td>\n",
       "      <td>NaN</td>\n",
       "      <td>NaN</td>\n",
       "      <td>NaN</td>\n",
       "      <td>NaN</td>\n",
       "    </tr>\n",
       "    <tr>\n",
       "      <th>15</th>\n",
       "      <td>ספירה של flo-mon</td>\n",
       "      <td>תוויות עמודה</td>\n",
       "      <td>NaN</td>\n",
       "      <td>NaN</td>\n",
       "      <td>NaN</td>\n",
       "      <td>NaN</td>\n",
       "      <td>NaN</td>\n",
       "      <td>NaN</td>\n",
       "      <td>NaN</td>\n",
       "      <td>NaN</td>\n",
       "      <td>NaN</td>\n",
       "      <td>NaN</td>\n",
       "      <td>NaN</td>\n",
       "      <td>NaN</td>\n",
       "    </tr>\n",
       "    <tr>\n",
       "      <th>16</th>\n",
       "      <td>תוויות שורה</td>\n",
       "      <td>1</td>\n",
       "      <td>2.0</td>\n",
       "      <td>3.0</td>\n",
       "      <td>4.0</td>\n",
       "      <td>5.0</td>\n",
       "      <td>סכום כולל</td>\n",
       "      <td>NaN</td>\n",
       "      <td>NaN</td>\n",
       "      <td>NaN</td>\n",
       "      <td>NaN</td>\n",
       "      <td>NaN</td>\n",
       "      <td>NaN</td>\n",
       "      <td>NaN</td>\n",
       "    </tr>\n",
       "    <tr>\n",
       "      <th>17</th>\n",
       "      <td>0</td>\n",
       "      <td>NaN</td>\n",
       "      <td>7.0</td>\n",
       "      <td>37.0</td>\n",
       "      <td>86.0</td>\n",
       "      <td>705.0</td>\n",
       "      <td>835</td>\n",
       "      <td>NaN</td>\n",
       "      <td>NaN</td>\n",
       "      <td>NaN</td>\n",
       "      <td>NaN</td>\n",
       "      <td>NaN</td>\n",
       "      <td>NaN</td>\n",
       "      <td>NaN</td>\n",
       "    </tr>\n",
       "    <tr>\n",
       "      <th>18</th>\n",
       "      <td>0</td>\n",
       "      <td>NaN</td>\n",
       "      <td>7.0</td>\n",
       "      <td>23.0</td>\n",
       "      <td>71.0</td>\n",
       "      <td>665.0</td>\n",
       "      <td>766</td>\n",
       "      <td>NaN</td>\n",
       "      <td>NaN</td>\n",
       "      <td>NaN</td>\n",
       "      <td>NaN</td>\n",
       "      <td>NaN</td>\n",
       "      <td>NaN</td>\n",
       "      <td>NaN</td>\n",
       "    </tr>\n",
       "    <tr>\n",
       "      <th>19</th>\n",
       "      <td>1</td>\n",
       "      <td>NaN</td>\n",
       "      <td>NaN</td>\n",
       "      <td>14.0</td>\n",
       "      <td>15.0</td>\n",
       "      <td>40.0</td>\n",
       "      <td>69</td>\n",
       "      <td>NaN</td>\n",
       "      <td>NaN</td>\n",
       "      <td>NaN</td>\n",
       "      <td>NaN</td>\n",
       "      <td>NaN</td>\n",
       "      <td>NaN</td>\n",
       "      <td>NaN</td>\n",
       "    </tr>\n",
       "    <tr>\n",
       "      <th>20</th>\n",
       "      <td>1</td>\n",
       "      <td>4</td>\n",
       "      <td>42.0</td>\n",
       "      <td>66.0</td>\n",
       "      <td>116.0</td>\n",
       "      <td>1082.0</td>\n",
       "      <td>1310</td>\n",
       "      <td>NaN</td>\n",
       "      <td>NaN</td>\n",
       "      <td>NaN</td>\n",
       "      <td>NaN</td>\n",
       "      <td>NaN</td>\n",
       "      <td>NaN</td>\n",
       "      <td>NaN</td>\n",
       "    </tr>\n",
       "    <tr>\n",
       "      <th>21</th>\n",
       "      <td>0</td>\n",
       "      <td>1</td>\n",
       "      <td>17.0</td>\n",
       "      <td>30.0</td>\n",
       "      <td>75.0</td>\n",
       "      <td>843.0</td>\n",
       "      <td>966</td>\n",
       "      <td>NaN</td>\n",
       "      <td>NaN</td>\n",
       "      <td>NaN</td>\n",
       "      <td>NaN</td>\n",
       "      <td>NaN</td>\n",
       "      <td>NaN</td>\n",
       "      <td>NaN</td>\n",
       "    </tr>\n",
       "    <tr>\n",
       "      <th>22</th>\n",
       "      <td>1</td>\n",
       "      <td>3</td>\n",
       "      <td>25.0</td>\n",
       "      <td>36.0</td>\n",
       "      <td>41.0</td>\n",
       "      <td>239.0</td>\n",
       "      <td>344</td>\n",
       "      <td>NaN</td>\n",
       "      <td>NaN</td>\n",
       "      <td>NaN</td>\n",
       "      <td>NaN</td>\n",
       "      <td>NaN</td>\n",
       "      <td>NaN</td>\n",
       "      <td>NaN</td>\n",
       "    </tr>\n",
       "    <tr>\n",
       "      <th>23</th>\n",
       "      <td>סכום כולל</td>\n",
       "      <td>4</td>\n",
       "      <td>49.0</td>\n",
       "      <td>103.0</td>\n",
       "      <td>202.0</td>\n",
       "      <td>1787.0</td>\n",
       "      <td>2145</td>\n",
       "      <td>NaN</td>\n",
       "      <td>NaN</td>\n",
       "      <td>NaN</td>\n",
       "      <td>NaN</td>\n",
       "      <td>NaN</td>\n",
       "      <td>NaN</td>\n",
       "      <td>NaN</td>\n",
       "    </tr>\n",
       "  </tbody>\n",
       "</table>\n",
       "</div>"
      ],
      "text/plain": [
       "          Unnamed: 0    Unnamed: 1  Unnamed: 2  Unnamed: 3  Unnamed: 4  \\\n",
       "0                NaN           NaN         NaN         NaN         NaN   \n",
       "1   ספירה של flo-mon  תוויות עמודה         NaN         NaN         NaN   \n",
       "2        תוויות שורה             1         2.0         3.0         4.0   \n",
       "3                  0           NaN         7.0        37.0        86.0   \n",
       "4                  1             4        42.0        66.0       116.0   \n",
       "5          סכום כולל             4        49.0       103.0       202.0   \n",
       "6                NaN           NaN         NaN         NaN         NaN   \n",
       "7                NaN           NaN         NaN         NaN         NaN   \n",
       "8   ספירה של flo-con  תוויות עמודה         NaN         NaN         NaN   \n",
       "9        תוויות שורה             1         2.0         3.0         4.0   \n",
       "10                 0             1        24.0        53.0       146.0   \n",
       "11                 1             3        25.0        50.0        56.0   \n",
       "12         סכום כולל             4        49.0       103.0       202.0   \n",
       "13               NaN           NaN         NaN         NaN         NaN   \n",
       "14               NaN           NaN         NaN         NaN         NaN   \n",
       "15  ספירה של flo-mon  תוויות עמודה         NaN         NaN         NaN   \n",
       "16       תוויות שורה             1         2.0         3.0         4.0   \n",
       "17                 0           NaN         7.0        37.0        86.0   \n",
       "18                 0           NaN         7.0        23.0        71.0   \n",
       "19                 1           NaN         NaN        14.0        15.0   \n",
       "20                 1             4        42.0        66.0       116.0   \n",
       "21                 0             1        17.0        30.0        75.0   \n",
       "22                 1             3        25.0        36.0        41.0   \n",
       "23         סכום כולל             4        49.0       103.0       202.0   \n",
       "\n",
       "    Unnamed: 5 Unnamed: 6  Unnamed: 7      Unnamed: 8  Unnamed: 9  \\\n",
       "0          NaN        NaN         NaN             NaN         NaN   \n",
       "1          NaN        NaN         NaN          עמודה1        1.00   \n",
       "2          5.0  סכום כולל         NaN    Monotonicity        1.00   \n",
       "3        705.0        835         NaN  Conservativity        0.75   \n",
       "4       1082.0       1310         NaN             All        0.75   \n",
       "5       1787.0       2145         NaN             NaN         NaN   \n",
       "6          NaN        NaN         NaN             NaN         NaN   \n",
       "7          NaN        NaN         NaN             NaN         NaN   \n",
       "8          NaN        NaN         NaN             NaN         NaN   \n",
       "9          5.0  סכום כולל         NaN             NaN         NaN   \n",
       "10      1508.0       1732         NaN             NaN         NaN   \n",
       "11       279.0        413         NaN             NaN         NaN   \n",
       "12      1787.0       2145         NaN             NaN         NaN   \n",
       "13         NaN        NaN         NaN             NaN         NaN   \n",
       "14         NaN        NaN         NaN             NaN         NaN   \n",
       "15         NaN        NaN         NaN             NaN         NaN   \n",
       "16         5.0  סכום כולל         NaN             NaN         NaN   \n",
       "17       705.0        835         NaN             NaN         NaN   \n",
       "18       665.0        766         NaN             NaN         NaN   \n",
       "19        40.0         69         NaN             NaN         NaN   \n",
       "20      1082.0       1310         NaN             NaN         NaN   \n",
       "21       843.0        966         NaN             NaN         NaN   \n",
       "22       239.0        344         NaN             NaN         NaN   \n",
       "23      1787.0       2145         NaN             NaN         NaN   \n",
       "\n",
       "    Unnamed: 10  Unnamed: 11  Unnamed: 12  Unnamed: 13  \n",
       "0           NaN          NaN          NaN          NaN  \n",
       "1      2.000000     3.000000     4.000000     5.000000  \n",
       "2      0.857143     0.640777     0.574257     0.605484  \n",
       "3      0.510204     0.485437     0.277228     0.156128  \n",
       "4      0.510204     0.349515     0.202970     0.133744  \n",
       "5           NaN          NaN          NaN          NaN  \n",
       "6           NaN          NaN          NaN          NaN  \n",
       "7           NaN          NaN          NaN          NaN  \n",
       "8           NaN          NaN          NaN          NaN  \n",
       "9           NaN          NaN          NaN          NaN  \n",
       "10          NaN          NaN          NaN          NaN  \n",
       "11          NaN          NaN          NaN          NaN  \n",
       "12          NaN          NaN          NaN          NaN  \n",
       "13          NaN          NaN          NaN          NaN  \n",
       "14          NaN          NaN          NaN          NaN  \n",
       "15          NaN          NaN          NaN          NaN  \n",
       "16          NaN          NaN          NaN          NaN  \n",
       "17          NaN          NaN          NaN          NaN  \n",
       "18          NaN          NaN          NaN          NaN  \n",
       "19          NaN          NaN          NaN          NaN  \n",
       "20          NaN          NaN          NaN          NaN  \n",
       "21          NaN          NaN          NaN          NaN  \n",
       "22          NaN          NaN          NaN          NaN  \n",
       "23          NaN          NaN          NaN          NaN  "
      ]
     },
     "execution_count": 5,
     "metadata": {},
     "output_type": "execute_result"
    }
   ],
   "source": [
    "dfs[list(dfs.keys())[0]]"
   ]
  },
  {
   "cell_type": "code",
   "execution_count": 6,
   "metadata": {},
   "outputs": [
    {
     "data": {
      "text/plain": [
       "24"
      ]
     },
     "execution_count": 6,
     "metadata": {},
     "output_type": "execute_result"
    }
   ],
   "source": [
    "len(dfs)"
   ]
  },
  {
   "cell_type": "code",
   "execution_count": 7,
   "metadata": {},
   "outputs": [
    {
     "name": "stderr",
     "output_type": "stream",
     "text": [
      "C:\\Users\\mimis\\Anaconda3\\lib\\site-packages\\pandas\\core\\ops\\array_ops.py:253: FutureWarning: elementwise comparison failed; returning scalar instead, but in the future will perform elementwise comparison\n",
      "  res_values = method(rvalues)\n"
     ]
    }
   ],
   "source": [
    "inds = []\n",
    "to_remove = []\n",
    "for f,df in dfs.items():\n",
    "    exists_mono = df.index[df.eq(\"Monotonicity\").any(1)].tolist()\n",
    "    if len(exists_mono) == 1:\n",
    "        inds += [exists_mono]\n",
    "    else: \n",
    "        to_remove += [f]\n",
    "    \n",
    "\n",
    "for f in to_remove:\n",
    "    del dfs[f]"
   ]
  },
  {
   "cell_type": "code",
   "execution_count": 8,
   "metadata": {},
   "outputs": [
    {
     "data": {
      "text/plain": [
       "20"
      ]
     },
     "execution_count": 8,
     "metadata": {},
     "output_type": "execute_result"
    }
   ],
   "source": [
    "len(dfs)"
   ]
  },
  {
   "cell_type": "code",
   "execution_count": 161,
   "metadata": {},
   "outputs": [
    {
     "name": "stderr",
     "output_type": "stream",
     "text": [
      "C:\\Users\\mimis\\Anaconda3\\lib\\site-packages\\pandas\\core\\ops\\array_ops.py:253: FutureWarning: elementwise comparison failed; returning scalar instead, but in the future will perform elementwise comparison\n",
      "  res_values = method(rvalues)\n"
     ]
    }
   ],
   "source": [
    "tables = {}\n",
    "for f,df in dfs.items():\n",
    "    mono_loc = df.index[df.eq(\"Monotonicity\").any(1)].tolist()[0]\n",
    "    table = range(mono_loc-1,mono_loc+3)\n",
    "    tables.update({f:df.iloc[table]})\n",
    "    "
   ]
  },
  {
   "cell_type": "code",
   "execution_count": 162,
   "metadata": {},
   "outputs": [
    {
     "data": {
      "text/html": [
       "<div>\n",
       "<style scoped>\n",
       "    .dataframe tbody tr th:only-of-type {\n",
       "        vertical-align: middle;\n",
       "    }\n",
       "\n",
       "    .dataframe tbody tr th {\n",
       "        vertical-align: top;\n",
       "    }\n",
       "\n",
       "    .dataframe thead th {\n",
       "        text-align: right;\n",
       "    }\n",
       "</style>\n",
       "<table border=\"1\" class=\"dataframe\">\n",
       "  <thead>\n",
       "    <tr style=\"text-align: right;\">\n",
       "      <th></th>\n",
       "      <th>Unnamed: 0</th>\n",
       "      <th>Unnamed: 1</th>\n",
       "      <th>Unnamed: 2</th>\n",
       "      <th>Unnamed: 3</th>\n",
       "      <th>Unnamed: 4</th>\n",
       "      <th>Unnamed: 5</th>\n",
       "      <th>Unnamed: 6</th>\n",
       "      <th>Unnamed: 7</th>\n",
       "      <th>Unnamed: 8</th>\n",
       "      <th>Unnamed: 9</th>\n",
       "      <th>Unnamed: 10</th>\n",
       "      <th>Unnamed: 11</th>\n",
       "      <th>Unnamed: 12</th>\n",
       "      <th>Unnamed: 13</th>\n",
       "    </tr>\n",
       "  </thead>\n",
       "  <tbody>\n",
       "    <tr>\n",
       "      <th>1</th>\n",
       "      <td>ספירה של flo-mon</td>\n",
       "      <td>תוויות עמודה</td>\n",
       "      <td>NaN</td>\n",
       "      <td>NaN</td>\n",
       "      <td>NaN</td>\n",
       "      <td>NaN</td>\n",
       "      <td>NaN</td>\n",
       "      <td>NaN</td>\n",
       "      <td>עמודה1</td>\n",
       "      <td>1.00</td>\n",
       "      <td>2.000000</td>\n",
       "      <td>3.000000</td>\n",
       "      <td>4.000000</td>\n",
       "      <td>5.000000</td>\n",
       "    </tr>\n",
       "    <tr>\n",
       "      <th>2</th>\n",
       "      <td>תוויות שורה</td>\n",
       "      <td>1</td>\n",
       "      <td>2.0</td>\n",
       "      <td>3.0</td>\n",
       "      <td>4.0</td>\n",
       "      <td>5.0</td>\n",
       "      <td>סכום כולל</td>\n",
       "      <td>NaN</td>\n",
       "      <td>Monotonicity</td>\n",
       "      <td>1.00</td>\n",
       "      <td>0.857143</td>\n",
       "      <td>0.640777</td>\n",
       "      <td>0.574257</td>\n",
       "      <td>0.605484</td>\n",
       "    </tr>\n",
       "    <tr>\n",
       "      <th>3</th>\n",
       "      <td>0</td>\n",
       "      <td>NaN</td>\n",
       "      <td>7.0</td>\n",
       "      <td>37.0</td>\n",
       "      <td>86.0</td>\n",
       "      <td>705.0</td>\n",
       "      <td>835</td>\n",
       "      <td>NaN</td>\n",
       "      <td>Conservativity</td>\n",
       "      <td>0.75</td>\n",
       "      <td>0.510204</td>\n",
       "      <td>0.485437</td>\n",
       "      <td>0.277228</td>\n",
       "      <td>0.156128</td>\n",
       "    </tr>\n",
       "    <tr>\n",
       "      <th>4</th>\n",
       "      <td>1</td>\n",
       "      <td>4</td>\n",
       "      <td>42.0</td>\n",
       "      <td>66.0</td>\n",
       "      <td>116.0</td>\n",
       "      <td>1082.0</td>\n",
       "      <td>1310</td>\n",
       "      <td>NaN</td>\n",
       "      <td>All</td>\n",
       "      <td>0.75</td>\n",
       "      <td>0.510204</td>\n",
       "      <td>0.349515</td>\n",
       "      <td>0.202970</td>\n",
       "      <td>0.133744</td>\n",
       "    </tr>\n",
       "  </tbody>\n",
       "</table>\n",
       "</div>"
      ],
      "text/plain": [
       "         Unnamed: 0    Unnamed: 1  Unnamed: 2  Unnamed: 3  Unnamed: 4  \\\n",
       "1  ספירה של flo-mon  תוויות עמודה         NaN         NaN         NaN   \n",
       "2       תוויות שורה             1         2.0         3.0         4.0   \n",
       "3                 0           NaN         7.0        37.0        86.0   \n",
       "4                 1             4        42.0        66.0       116.0   \n",
       "\n",
       "   Unnamed: 5 Unnamed: 6  Unnamed: 7      Unnamed: 8  Unnamed: 9  Unnamed: 10  \\\n",
       "1         NaN        NaN         NaN          עמודה1        1.00     2.000000   \n",
       "2         5.0  סכום כולל         NaN    Monotonicity        1.00     0.857143   \n",
       "3       705.0        835         NaN  Conservativity        0.75     0.510204   \n",
       "4      1082.0       1310         NaN             All        0.75     0.510204   \n",
       "\n",
       "   Unnamed: 11  Unnamed: 12  Unnamed: 13  \n",
       "1     3.000000     4.000000     5.000000  \n",
       "2     0.640777     0.574257     0.605484  \n",
       "3     0.485437     0.277228     0.156128  \n",
       "4     0.349515     0.202970     0.133744  "
      ]
     },
     "execution_count": 162,
     "metadata": {},
     "output_type": "execute_result"
    }
   ],
   "source": [
    "tables[list(tables.keys())[0]]"
   ]
  },
  {
   "cell_type": "code",
   "execution_count": 163,
   "metadata": {},
   "outputs": [
    {
     "name": "stderr",
     "output_type": "stream",
     "text": [
      "C:\\Users\\mimis\\Anaconda3\\lib\\site-packages\\ipykernel_launcher.py:3: FutureWarning: elementwise comparison failed; returning scalar instead, but in the future will perform elementwise comparison\n",
      "  This is separate from the ipykernel package so we can avoid doing imports until\n"
     ]
    }
   ],
   "source": [
    "for lang, table in tables.items():\n",
    "    for col in table.columns:\n",
    "        if \"Monotonicity\" in table[col].values:\n",
    "            tables[lang] = table.drop([\"Unnamed: \"+str(i) for i in range(int(table.columns[-1][-2:])) if (i<int(col[-2:]) and \"Unnamed: \"+str(i) in table.columns) ],axis=\"columns\")\n"
   ]
  },
  {
   "cell_type": "code",
   "execution_count": 164,
   "metadata": {},
   "outputs": [
    {
     "data": {
      "text/html": [
       "<div>\n",
       "<style scoped>\n",
       "    .dataframe tbody tr th:only-of-type {\n",
       "        vertical-align: middle;\n",
       "    }\n",
       "\n",
       "    .dataframe tbody tr th {\n",
       "        vertical-align: top;\n",
       "    }\n",
       "\n",
       "    .dataframe thead th {\n",
       "        text-align: right;\n",
       "    }\n",
       "</style>\n",
       "<table border=\"1\" class=\"dataframe\">\n",
       "  <thead>\n",
       "    <tr style=\"text-align: right;\">\n",
       "      <th></th>\n",
       "      <th>Unnamed: 17</th>\n",
       "      <th>Unnamed: 18</th>\n",
       "      <th>Unnamed: 19</th>\n",
       "      <th>Unnamed: 20</th>\n",
       "      <th>Unnamed: 21</th>\n",
       "      <th>Unnamed: 22</th>\n",
       "    </tr>\n",
       "  </thead>\n",
       "  <tbody>\n",
       "    <tr>\n",
       "      <th>4</th>\n",
       "      <td>עמודה1</td>\n",
       "      <td>1.00</td>\n",
       "      <td>2.000000</td>\n",
       "      <td>3.000000</td>\n",
       "      <td>4.000000</td>\n",
       "      <td>5.000000</td>\n",
       "    </tr>\n",
       "    <tr>\n",
       "      <th>5</th>\n",
       "      <td>Monotonicity</td>\n",
       "      <td>1.00</td>\n",
       "      <td>0.857143</td>\n",
       "      <td>0.634615</td>\n",
       "      <td>0.572864</td>\n",
       "      <td>0.544955</td>\n",
       "    </tr>\n",
       "    <tr>\n",
       "      <th>6</th>\n",
       "      <td>Quantity</td>\n",
       "      <td>1.00</td>\n",
       "      <td>1.000000</td>\n",
       "      <td>1.000000</td>\n",
       "      <td>1.000000</td>\n",
       "      <td>1.000000</td>\n",
       "    </tr>\n",
       "    <tr>\n",
       "      <th>7</th>\n",
       "      <td>Conservativity</td>\n",
       "      <td>0.75</td>\n",
       "      <td>0.510204</td>\n",
       "      <td>0.480769</td>\n",
       "      <td>0.281407</td>\n",
       "      <td>0.161977</td>\n",
       "    </tr>\n",
       "  </tbody>\n",
       "</table>\n",
       "</div>"
      ],
      "text/plain": [
       "      Unnamed: 17  Unnamed: 18  Unnamed: 19  Unnamed: 20  Unnamed: 21  \\\n",
       "4          עמודה1         1.00     2.000000     3.000000     4.000000   \n",
       "5    Monotonicity         1.00     0.857143     0.634615     0.572864   \n",
       "6        Quantity         1.00     1.000000     1.000000     1.000000   \n",
       "7  Conservativity         0.75     0.510204     0.480769     0.281407   \n",
       "\n",
       "   Unnamed: 22  \n",
       "4     5.000000  \n",
       "5     0.544955  \n",
       "6     1.000000  \n",
       "7     0.161977  "
      ]
     },
     "execution_count": 164,
     "metadata": {},
     "output_type": "execute_result"
    }
   ],
   "source": [
    "tables[list(tables.keys())[9]]"
   ]
  },
  {
   "cell_type": "code",
   "execution_count": 165,
   "metadata": {},
   "outputs": [],
   "source": [
    "for lang, table in tables.items():\n",
    "    tables[lang] = table.reset_index()\n",
    "    tables[lang].columns = range(tables[lang].columns.size)"
   ]
  },
  {
   "cell_type": "code",
   "execution_count": 166,
   "metadata": {},
   "outputs": [],
   "source": [
    "for lang, table in tables.items():\n",
    "    tables[lang] = table.reset_index()\n",
    "    tables[lang] = tables[lang].drop([0],axis=\"columns\")"
   ]
  },
  {
   "cell_type": "code",
   "execution_count": 167,
   "metadata": {},
   "outputs": [],
   "source": [
    "import numpy as np"
   ]
  },
  {
   "cell_type": "code",
   "execution_count": 168,
   "metadata": {},
   "outputs": [],
   "source": [
    "tables_concat = pd.concat(tables)"
   ]
  },
  {
   "cell_type": "code",
   "execution_count": 189,
   "metadata": {},
   "outputs": [],
   "source": [
    "tables_concat =(tables_concat.drop([0],axis=\"columns\"))"
   ]
  },
  {
   "cell_type": "code",
   "execution_count": 200,
   "metadata": {},
   "outputs": [],
   "source": [
    "to_drop = tables_concat.iloc[0,0] #עמודה1"
   ]
  },
  {
   "cell_type": "code",
   "execution_count": 215,
   "metadata": {},
   "outputs": [],
   "source": [
    "tables_concat = tables_concat[tables_concat[1]!=to_drop]"
   ]
  },
  {
   "cell_type": "code",
   "execution_count": 221,
   "metadata": {},
   "outputs": [],
   "source": [
    "d = {}\n",
    "for i in range(tables_concat.columns.size):\n",
    "    d.update({i+1:i})\n"
   ]
  },
  {
   "cell_type": "code",
   "execution_count": 222,
   "metadata": {},
   "outputs": [
    {
     "data": {
      "text/plain": [
       "{1: 0, 2: 1, 3: 2, 4: 3, 5: 4, 6: 5}"
      ]
     },
     "execution_count": 222,
     "metadata": {},
     "output_type": "execute_result"
    }
   ],
   "source": [
    "d"
   ]
  },
  {
   "cell_type": "code",
   "execution_count": 225,
   "metadata": {},
   "outputs": [],
   "source": [
    "tables_concat = tables_concat.rename(d,axis='columns')"
   ]
  },
  {
   "cell_type": "code",
   "execution_count": 340,
   "metadata": {},
   "outputs": [],
   "source": [
    "tables_concat.to_csv(\"tables_all_20_langs_concat.csv\")"
   ]
  },
  {
   "cell_type": "code",
   "execution_count": 232,
   "metadata": {},
   "outputs": [
    {
     "data": {
      "text/plain": [
       "[1, 2, 3, 4, 5]"
      ]
     },
     "execution_count": 232,
     "metadata": {},
     "output_type": "execute_result"
    }
   ],
   "source": [
    "list(range(1,6))"
   ]
  },
  {
   "cell_type": "code",
   "execution_count": 254,
   "metadata": {},
   "outputs": [],
   "source": [
    "row_titles = [\"Monotonicity\",\"Conservativity\",\"All\"]\n",
    "col_titles = list(range(1,6))\n",
    "\n",
    "x = {}\n",
    "\n",
    "for r in row_titles:\n",
    "    mid = {}\n",
    "    for c in col_titles:\n",
    "        mid.update({c:tables_concat.loc[tables_concat[0] == r,c].mean()})\n",
    "    x.update({r:mid})\n",
    "        "
   ]
  },
  {
   "cell_type": "code",
   "execution_count": 255,
   "metadata": {},
   "outputs": [
    {
     "data": {
      "text/plain": [
       "{'Monotonicity': {1: 1.0,\n",
       "  2: 0.8680256376371085,\n",
       "  3: 0.6498525684985846,\n",
       "  4: 0.5558497233580473,\n",
       "  5: 0.602443273785769},\n",
       " 'Conservativity': {1: 0.8,\n",
       "  2: 0.5228325372702272,\n",
       "  3: 0.45662317631234906,\n",
       "  4: 0.30681674828263106,\n",
       "  5: 0.16395292913503293},\n",
       " 'All': {1: 0.8088235294117647,\n",
       "  2: 0.5250610882650931,\n",
       "  3: 0.37149675750703304,\n",
       "  4: 0.1887216333787356,\n",
       "  5: 0.13910848595509842}}"
      ]
     },
     "execution_count": 255,
     "metadata": {},
     "output_type": "execute_result"
    }
   ],
   "source": [
    "x"
   ]
  },
  {
   "cell_type": "code",
   "execution_count": 243,
   "metadata": {},
   "outputs": [
    {
     "data": {
      "text/plain": [
       "1.0"
      ]
     },
     "execution_count": 243,
     "metadata": {},
     "output_type": "execute_result"
    }
   ],
   "source": [
    "tables_concat.loc[tables_concat[0] == row_titles[0],col_titles[0]].mean()"
   ]
  },
  {
   "cell_type": "code",
   "execution_count": 256,
   "metadata": {},
   "outputs": [],
   "source": [
    "import matplotlib.pyplot as plt"
   ]
  },
  {
   "cell_type": "code",
   "execution_count": 260,
   "metadata": {},
   "outputs": [
    {
     "data": {
      "text/plain": [
       "[<matplotlib.lines.Line2D at 0x25cc82ca808>]"
      ]
     },
     "execution_count": 260,
     "metadata": {},
     "output_type": "execute_result"
    },
    {
     "data": {
      "image/png": "[encoded data removed]",
      "text/plain": [
       "<Figure size 432x288 with 1 Axes>"
      ]
     },
     "metadata": {
      "needs_background": "light"
     },
     "output_type": "display_data"
    }
   ],
   "source": [
    "plt.plot(list(x[\"Monotonicity\"].keys()),list(x[\"Monotonicity\"].values()))"
   ]
  },
  {
   "cell_type": "code",
   "execution_count": 279,
   "metadata": {},
   "outputs": [
    {
     "data": {
      "text/plain": [
       "Text(27.0, 0.5, '% of quantifiers in a language in this length')"
      ]
     },
     "execution_count": 279,
     "metadata": {},
     "output_type": "execute_result"
    },
    {
     "data": {
      "image/png": "[encoded data removed]",
      "text/plain": [
       "<Figure size 432x288 with 1 Axes>"
      ]
     },
     "metadata": {
      "needs_background": "light"
     },
     "output_type": "display_data"
    }
   ],
   "source": [
    "for title in row_titles:\n",
    "    plt.plot(list(x[title].keys()),list(x[title].values()),label=title)\n",
    "    \n",
    "    \n",
    "plt.title(\"Mean over 20 languages\")\n",
    "plt.savefig(\"mean over 20 langs.png\")\n",
    "plt.legend()\n",
    "plt.xlabel(\"Minimal length\")\n",
    "plt.ylabel(\"% of quantifiers in a language in this length\")\n"
   ]
  },
  {
   "cell_type": "code",
   "execution_count": 280,
   "metadata": {},
   "outputs": [],
   "source": [
    "import numpy as np"
   ]
  },
  {
   "cell_type": "code",
   "execution_count": 339,
   "metadata": {},
   "outputs": [
    {
     "name": "stdout",
     "output_type": "stream",
     "text": [
      "#2ca02c\n",
      "#2ca02c\n",
      "#2ca02c\n",
      "<class 'function'>\n"
     ]
    },
    {
     "data": {
      "text/plain": [
       "Text(27.0, 0.5, '% of quantifiers in a language in this length')"
      ]
     },
     "execution_count": 339,
     "metadata": {},
     "output_type": "execute_result"
    },
    {
     "data": {
      "image/png": "[encoded data removed]",
      "text/plain": [
       "<Figure size 432x288 with 1 Axes>"
      ]
     },
     "metadata": {
      "needs_background": "light"
     },
     "output_type": "display_data"
    }
   ],
   "source": [
    "for title in row_titles:\n",
    "    plt.scatter(list(x[title].keys()),list(x[title].values()),label=title)\n",
    "    color = (line.get_color())\n",
    "    print(color)\n",
    "    a,b = np.polyfit(list(x[title].keys()), list(x[title].values()), deg=1)\n",
    "    xnums = np.linspace(1, 5, num=20)\n",
    "    plt.plot(xnums,a*xnums+b,'.',label = \"reg of \"+title,color=\"gray\",alpha=0.5)\n",
    "    \n",
    "ax = plt.gca()\n",
    "ax.set_ylim([-0.1,1.1])\n",
    "plt.title(\"Mean over 20 languages\")\n",
    "plt.savefig(\"mean over 20 langs.png\")\n",
    "plt.legend()\n",
    "plt.xlabel(\"Minimal length\")\n",
    "plt.ylabel(\"% of quantifiers in a language in this length\")\n",
    "\n"
   ]
  },
  {
   "cell_type": "code",
   "execution_count": null,
   "metadata": {},
   "outputs": [],
   "source": []
  },
  {
   "cell_type": "code",
   "execution_count": null,
   "metadata": {},
   "outputs": [],
   "source": []
  }
 ],
 "metadata": {
  "kernelspec": {
   "display_name": "Python 3",
   "language": "python",
   "name": "python3"
  },
  "language_info": {
   "codemirror_mode": {
    "name": "ipython",
    "version": 3
   },
   "file_extension": ".py",
   "mimetype": "text/x-python",
   "name": "python",
   "nbconvert_exporter": "python",
   "pygments_lexer": "ipython3",
   "version": "3.7.4"
  }
 },
 "nbformat": 4,
 "nbformat_minor": 2
}
