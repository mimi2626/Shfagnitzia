{
 "cells": [
  {
   "cell_type": "code",
   "execution_count": 1,
   "metadata": {},
   "outputs": [],
   "source": [
    "import pandas as pd"
   ]
  },
  {
   "cell_type": "code",
   "execution_count": 2,
   "metadata": {},
   "outputs": [],
   "source": [
    "tables_concat = pd.read_csv(\"tables_all_20_langs_concat.csv\")"
   ]
  },
  {
   "cell_type": "code",
   "execution_count": 3,
   "metadata": {},
   "outputs": [
    {
     "data": {
      "text/html": [
       "<div>\n",
       "<style scoped>\n",
       "    .dataframe tbody tr th:only-of-type {\n",
       "        vertical-align: middle;\n",
       "    }\n",
       "\n",
       "    .dataframe tbody tr th {\n",
       "        vertical-align: top;\n",
       "    }\n",
       "\n",
       "    .dataframe thead th {\n",
       "        text-align: right;\n",
       "    }\n",
       "</style>\n",
       "<table border=\"1\" class=\"dataframe\">\n",
       "  <thead>\n",
       "    <tr style=\"text-align: right;\">\n",
       "      <th></th>\n",
       "      <th>Unnamed: 0</th>\n",
       "      <th>Unnamed: 1</th>\n",
       "      <th>0</th>\n",
       "      <th>1</th>\n",
       "      <th>2</th>\n",
       "      <th>3</th>\n",
       "      <th>4</th>\n",
       "      <th>5</th>\n",
       "    </tr>\n",
       "  </thead>\n",
       "  <tbody>\n",
       "    <tr>\n",
       "      <th>0</th>\n",
       "      <td>language=Logical-max_model_size=8-max-expr-len...</td>\n",
       "      <td>1</td>\n",
       "      <td>Monotonicity</td>\n",
       "      <td>1.00</td>\n",
       "      <td>0.857143</td>\n",
       "      <td>0.640777</td>\n",
       "      <td>0.574257</td>\n",
       "      <td>0.605484</td>\n",
       "    </tr>\n",
       "    <tr>\n",
       "      <th>1</th>\n",
       "      <td>language=Logical-max_model_size=8-max-expr-len...</td>\n",
       "      <td>2</td>\n",
       "      <td>Conservativity</td>\n",
       "      <td>0.75</td>\n",
       "      <td>0.510204</td>\n",
       "      <td>0.485437</td>\n",
       "      <td>0.277228</td>\n",
       "      <td>0.156128</td>\n",
       "    </tr>\n",
       "    <tr>\n",
       "      <th>2</th>\n",
       "      <td>language=Logical-max_model_size=8-max-expr-len...</td>\n",
       "      <td>3</td>\n",
       "      <td>All</td>\n",
       "      <td>0.75</td>\n",
       "      <td>0.510204</td>\n",
       "      <td>0.349515</td>\n",
       "      <td>0.202970</td>\n",
       "      <td>0.133744</td>\n",
       "    </tr>\n",
       "    <tr>\n",
       "      <th>3</th>\n",
       "      <td>language=Logical_and_comp-max_model_size=8-max...</td>\n",
       "      <td>1</td>\n",
       "      <td>Monotonicity</td>\n",
       "      <td>1.00</td>\n",
       "      <td>0.847826</td>\n",
       "      <td>0.625000</td>\n",
       "      <td>0.607143</td>\n",
       "      <td>0.662093</td>\n",
       "    </tr>\n",
       "    <tr>\n",
       "      <th>4</th>\n",
       "      <td>language=Logical_and_comp-max_model_size=8-max...</td>\n",
       "      <td>2</td>\n",
       "      <td>Conservativity</td>\n",
       "      <td>1.00</td>\n",
       "      <td>0.500000</td>\n",
       "      <td>0.750000</td>\n",
       "      <td>0.535714</td>\n",
       "      <td>0.084048</td>\n",
       "    </tr>\n",
       "  </tbody>\n",
       "</table>\n",
       "</div>"
      ],
      "text/plain": [
       "                                          Unnamed: 0  Unnamed: 1  \\\n",
       "0  language=Logical-max_model_size=8-max-expr-len...           1   \n",
       "1  language=Logical-max_model_size=8-max-expr-len...           2   \n",
       "2  language=Logical-max_model_size=8-max-expr-len...           3   \n",
       "3  language=Logical_and_comp-max_model_size=8-max...           1   \n",
       "4  language=Logical_and_comp-max_model_size=8-max...           2   \n",
       "\n",
       "                0     1         2         3         4         5  \n",
       "0    Monotonicity  1.00  0.857143  0.640777  0.574257  0.605484  \n",
       "1  Conservativity  0.75  0.510204  0.485437  0.277228  0.156128  \n",
       "2             All  0.75  0.510204  0.349515  0.202970  0.133744  \n",
       "3    Monotonicity  1.00  0.847826  0.625000  0.607143  0.662093  \n",
       "4  Conservativity  1.00  0.500000  0.750000  0.535714  0.084048  "
      ]
     },
     "execution_count": 3,
     "metadata": {},
     "output_type": "execute_result"
    }
   ],
   "source": [
    "tables_concat.head()"
   ]
  },
  {
   "cell_type": "code",
   "execution_count": 4,
   "metadata": {},
   "outputs": [],
   "source": [
    "mono_tab = tables_concat[tables_concat[\"0\"]==\"Monotonicity\"].drop_duplicates()"
   ]
  },
  {
   "cell_type": "code",
   "execution_count": 5,
   "metadata": {},
   "outputs": [
    {
     "data": {
      "text/plain": [
       "20"
      ]
     },
     "execution_count": 5,
     "metadata": {},
     "output_type": "execute_result"
    }
   ],
   "source": [
    "len(mono_tab)"
   ]
  },
  {
   "cell_type": "code",
   "execution_count": 16,
   "metadata": {},
   "outputs": [],
   "source": [
    "import matplotlib.pyplot as plt\n",
    "import numpy as np\n",
    "import scipy.stats"
   ]
  },
  {
   "cell_type": "code",
   "execution_count": 36,
   "metadata": {
    "scrolled": true
   },
   "outputs": [
    {
     "data": {
      "image/png": "[encoded data removed]",
      "text/plain": [
       "<Figure size 432x288 with 1 Axes>"
      ]
     },
     "metadata": {
      "needs_background": "light"
     },
     "output_type": "display_data"
    }
   ],
   "source": [
    "ttest = []\n",
    "for x in range(len(mono_tab)):\n",
    "    x_plot = [1,2,3,4,5]\n",
    "    s = [str(j) for j in x_plot]\n",
    "    y_plot = [float(i) for i in mono_tab[s].iloc[x]]\n",
    "    title = mono_tab.iloc[x][0][9:-37]\n",
    "    p = plt.scatter(x_plot,y_plot,label=title)\n",
    "#     plt.plot(x_plot,y_plot,color=\"gray\",alpha=0.2)\n",
    "    a,b = np.polyfit(x_plot, y_plot, deg=1)\n",
    "    xnums = np.linspace(1, 5, num=20)\n",
    "    r = plt.plot(xnums,a*xnums+b,linestyle=\"dotted\",alpha=0.5)\n",
    "    ry = (r[0].get_ydata())\n",
    "    ttest+=[scipy.stats.ttest_ind(y_plot,ry)]\n",
    "plt.legend([])\n",
    "plt.xticks([1,2,3,4,5])\n",
    "ax = plt.gca()\n",
    "ax.set_title(\"mono\")\n",
    "plt.savefig(\"mono_withreg.png\")\n",
    "    "
   ]
  },
  {
   "cell_type": "code",
   "execution_count": 20,
   "metadata": {},
   "outputs": [
    {
     "data": {
      "text/plain": [
       "[Ttest_indResult(statistic=-1.5446349910643381e-15, pvalue=0.9999999999999988),\n",
       " Ttest_indResult(statistic=1.7665214695392976e-15, pvalue=0.9999999999999987),\n",
       " Ttest_indResult(statistic=-3.3394687433032533e-15, pvalue=0.9999999999999973),\n",
       " Ttest_indResult(statistic=1.7642590473284685e-15, pvalue=0.9999999999999987),\n",
       " Ttest_indResult(statistic=2.2992462725913725e-15, pvalue=0.9999999999999982),\n",
       " Ttest_indResult(statistic=-1.536016749228132e-15, pvalue=0.9999999999999988),\n",
       " Ttest_indResult(statistic=-3.3780046745468633e-15, pvalue=0.9999999999999973),\n",
       " Ttest_indResult(statistic=0.0, pvalue=1.0),\n",
       " Ttest_indResult(statistic=0.0, pvalue=1.0),\n",
       " Ttest_indResult(statistic=1.4016348445869272e-15, pvalue=0.9999999999999989),\n",
       " Ttest_indResult(statistic=1.961236201401094e-15, pvalue=0.9999999999999984),\n",
       " Ttest_indResult(statistic=-2.7988096143605974e-15, pvalue=0.9999999999999978),\n",
       " Ttest_indResult(statistic=-2.7988096143605974e-15, pvalue=0.9999999999999978),\n",
       " Ttest_indResult(statistic=1.838752385766413e-15, pvalue=0.9999999999999986),\n",
       " Ttest_indResult(statistic=-4.399304995069876e-15, pvalue=0.9999999999999964),\n",
       " Ttest_indResult(statistic=-4.296876005262566e-15, pvalue=0.9999999999999967),\n",
       " Ttest_indResult(statistic=5.045538233433745e-15, pvalue=0.999999999999996),\n",
       " Ttest_indResult(statistic=-6.814171583794014e-15, pvalue=0.9999999999999947),\n",
       " Ttest_indResult(statistic=-2.7988096143605974e-15, pvalue=0.9999999999999978),\n",
       " Ttest_indResult(statistic=-3.755800686766291e-15, pvalue=0.9999999999999971)]"
      ]
     },
     "execution_count": 20,
     "metadata": {},
     "output_type": "execute_result"
    }
   ],
   "source": [
    "ttest"
   ]
  },
  {
   "cell_type": "code",
   "execution_count": null,
   "metadata": {},
   "outputs": [],
   "source": []
  },
  {
   "cell_type": "code",
   "execution_count": 22,
   "metadata": {},
   "outputs": [
    {
     "name": "stdout",
     "output_type": "stream",
     "text": [
      "AxesSubplot(0.125,0.125;0.775x0.755)\n"
     ]
    },
    {
     "data": {
      "image/png": "[encoded data removed]",
      "text/plain": [
       "<Figure size 432x288 with 1 Axes>"
      ]
     },
     "metadata": {
      "needs_background": "light"
     },
     "output_type": "display_data"
    }
   ],
   "source": [
    "ax = mono_tab[[\"1\",\"2\",\"3\",\"4\",\"5\"]].transpose().plot()\n",
    "print(ax)\n",
    "ax.set_title(\"Graph 1a: Monotonicity for each language\")\n",
    "\n",
    "\n",
    "\n",
    "ax.legend([])\n",
    "fig = ax.get_figure()\n",
    "# fig.savefig(\"mono_all_langs_g.png\")"
   ]
  },
  {
   "cell_type": "code",
   "execution_count": 13,
   "metadata": {},
   "outputs": [
    {
     "data": {
      "image/png": "[encoded data removed]",
      "text/plain": [
       "<Figure size 432x288 with 1 Axes>"
      ]
     },
     "metadata": {
      "needs_background": "light"
     },
     "output_type": "display_data"
    }
   ],
   "source": [
    "ax=mono_tab[[\"1\",\"2\",\"3\",\"4\",\"5\"]].boxplot()\n",
    "ax.set_title(\"Graph 1b: Variety of % of quantifiers with Monotonicity\")\n",
    "fig = ax.get_figure()\n",
    "fig.savefig(\"Vari_mon_g.png\")"
   ]
  },
  {
   "cell_type": "markdown",
   "metadata": {},
   "source": [
    "we can see that it is going down, but then for 5 it does go up.\n",
    "it might be an outlier, but it might be someting we would only be able to spot if we allow for longer expressions."
   ]
  },
  {
   "cell_type": "code",
   "execution_count": 25,
   "metadata": {},
   "outputs": [],
   "source": [
    "con_tab = tables_concat[tables_concat[\"0\"]==\"Conservativity\"]\n"
   ]
  },
  {
   "cell_type": "code",
   "execution_count": 38,
   "metadata": {},
   "outputs": [
    {
     "data": {
      "image/png": "[encoded data removed]",
      "text/plain": [
       "<Figure size 432x288 with 1 Axes>"
      ]
     },
     "metadata": {
      "needs_background": "light"
     },
     "output_type": "display_data"
    }
   ],
   "source": [
    "ttest = []\n",
    "for x in range(len(con_tab)):\n",
    "    x_plot = [1,2,3,4,5]\n",
    "    s = [str(j) for j in x_plot]\n",
    "    y_plot = [float(i) for i in con_tab[s].iloc[x]]\n",
    "    title = con_tab.iloc[x][0][9:-37]\n",
    "    p = plt.scatter(x_plot,y_plot,label=title)\n",
    "#     plt.plot(x_plot,y_plot,color=\"gray\",alpha=0.2)\n",
    "    a,b = np.polyfit(x_plot, y_plot, deg=1)\n",
    "    xnums = np.linspace(1, 5, num=20)\n",
    "    r = plt.plot(xnums,a*xnums+b,linestyle=\"dotted\",alpha=0.5)\n",
    "    ry = (r[0].get_ydata())\n",
    "    ttest+=[scipy.stats.ttest_ind(y_plot,ry)]\n",
    "plt.legend([])\n",
    "plt.xticks([1,2,3,4,5])\n",
    "ax = plt.gca()\n",
    "ax.set_title(\"con\")\n",
    "plt.savefig(\"con_withreg.png\")\n",
    "    "
   ]
  },
  {
   "cell_type": "code",
   "execution_count": 14,
   "metadata": {},
   "outputs": [
    {
     "data": {
      "image/png": "[encoded data removed]",
      "text/plain": [
       "<Figure size 432x288 with 1 Axes>"
      ]
     },
     "metadata": {
      "needs_background": "light"
     },
     "output_type": "display_data"
    }
   ],
   "source": [
    "ax = con_tab[[\"1\",\"2\",\"3\",\"4\",\"5\"]].transpose().plot()\n",
    "ax.set_title(\"Graph 2a: Conservativity for each language\")\n",
    "ax.legend([])\n",
    "fig = ax.get_figure()\n",
    "fig.savefig(\"con_all_langs_g.png\")\n"
   ]
  },
  {
   "cell_type": "code",
   "execution_count": 15,
   "metadata": {},
   "outputs": [
    {
     "data": {
      "image/png": "[encoded data removed]",
      "text/plain": [
       "<Figure size 432x288 with 1 Axes>"
      ]
     },
     "metadata": {
      "needs_background": "light"
     },
     "output_type": "display_data"
    }
   ],
   "source": [
    "\n",
    "ax=con_tab[[\"1\",\"2\",\"3\",\"4\",\"5\"]].boxplot()\n",
    "ax.set_title(\"Graph 2b: Variety of % of quantifiers with Conservativity\")\n",
    "fig = ax.get_figure()\n",
    "fig.savefig(\"Vari_con_g.png\")"
   ]
  },
  {
   "cell_type": "code",
   "execution_count": 27,
   "metadata": {},
   "outputs": [],
   "source": [
    "all_tab = tables_concat[tables_concat[\"0\"]==\"All\"]\n"
   ]
  },
  {
   "cell_type": "code",
   "execution_count": 39,
   "metadata": {},
   "outputs": [
    {
     "data": {
      "image/png": "[encoded data removed]",
      "text/plain": [
       "<Figure size 432x288 with 1 Axes>"
      ]
     },
     "metadata": {
      "needs_background": "light"
     },
     "output_type": "display_data"
    }
   ],
   "source": [
    "ttest = []\n",
    "for x in range(len(all_tab)):\n",
    "    x_plot = [1,2,3,4,5]\n",
    "    s = [str(j) for j in x_plot]\n",
    "    y_plot = [float(i) for i in all_tab[s].iloc[x]]\n",
    "    title = all_tab.iloc[x][0][9:-37]\n",
    "    p = plt.scatter(x_plot,y_plot,label=title)\n",
    "#     plt.plot(x_plot,y_plot,color=\"gray\",alpha=0.2)\n",
    "    a,b = np.polyfit(x_plot, y_plot, deg=1)\n",
    "    xnums = np.linspace(1, 5, num=20)\n",
    "    r = plt.plot(xnums,a*xnums+b,linestyle=\"dotted\",alpha=0.5)\n",
    "    ry = (r[0].get_ydata())\n",
    "    ttest+=[scipy.stats.ttest_ind(y_plot,ry)]\n",
    "plt.legend([])\n",
    "plt.xticks([1,2,3,4,5])\n",
    "ax = plt.gca()\n",
    "ax.set_title(\"both\")\n",
    "plt.savefig(\"both_withreg.png\")\n",
    "    "
   ]
  },
  {
   "cell_type": "code",
   "execution_count": 16,
   "metadata": {},
   "outputs": [
    {
     "data": {
      "image/png": "[encoded data removed]",
      "text/plain": [
       "<Figure size 432x288 with 1 Axes>"
      ]
     },
     "metadata": {
      "needs_background": "light"
     },
     "output_type": "display_data"
    }
   ],
   "source": [
    "ax = all_tab[[\"1\",\"2\",\"3\",\"4\",\"5\"]].transpose().plot()\n",
    "ax.set_title(\"Graph 3a: Both universals for each language\")\n",
    "ax.legend([])\n",
    "fig = ax.get_figure()\n",
    "fig.savefig(\"all_all_langs_g.png\")\n"
   ]
  },
  {
   "cell_type": "code",
   "execution_count": 17,
   "metadata": {},
   "outputs": [
    {
     "data": {
      "image/png": "[encoded data removed]",
      "text/plain": [
       "<Figure size 432x288 with 1 Axes>"
      ]
     },
     "metadata": {
      "needs_background": "light"
     },
     "output_type": "display_data"
    }
   ],
   "source": [
    "\n",
    "ax=all_tab[[\"1\",\"2\",\"3\",\"4\",\"5\"]].boxplot()\n",
    "ax.set_title(\"Graph 3b: Variety of % of quantifiers with both universals\")\n",
    "fig = ax.get_figure()\n",
    "fig.savefig(\"Vari_all_g.png\")"
   ]
  },
  {
   "cell_type": "code",
   "execution_count": 3,
   "metadata": {},
   "outputs": [
    {
     "name": "stdout",
     "output_type": "stream",
     "text": [
      "<class 'str'>\n",
      "Unnamed: 0\n",
      "<class 'str'>\n",
      "Unnamed: 1\n",
      "<class 'str'>\n",
      "0\n",
      "<class 'str'>\n",
      "1\n",
      "<class 'str'>\n",
      "2\n",
      "<class 'str'>\n",
      "3\n",
      "<class 'str'>\n",
      "4\n",
      "<class 'str'>\n",
      "5\n"
     ]
    }
   ],
   "source": [
    "for i in tables_concat.columns:\n",
    "    print(type(i))\n",
    "    print(i)"
   ]
  },
  {
   "cell_type": "code",
   "execution_count": 9,
   "metadata": {},
   "outputs": [
    {
     "name": "stdout",
     "output_type": "stream",
     "text": [
      "['1', '2', '3', '4', '5']\n"
     ]
    }
   ],
   "source": [
    "row_titles = [\"Monotonicity\",\"Conservativity\",\"All\"]\n",
    "col_titles = [str(i) for i in range(1,6)]\n",
    "\n",
    "x = {}\n",
    "\n",
    "for r in row_titles:\n",
    "    mid = {}\n",
    "    for c in col_titles:\n",
    "        mid.update({c:tables_concat.loc[tables_concat[\"0\"] == r,c].mean()})\n",
    "    x.update({r:mid})\n",
    "        "
   ]
  },
  {
   "cell_type": "code",
   "execution_count": 10,
   "metadata": {},
   "outputs": [
    {
     "data": {
      "text/plain": [
       "{'Monotonicity': {'1': 1.0,\n",
       "  '2': 0.8680256376371085,\n",
       "  '3': 0.6498525684985846,\n",
       "  '4': 0.5558497233580473,\n",
       "  '5': 0.602443273785769},\n",
       " 'Conservativity': {'1': 0.8,\n",
       "  '2': 0.5228325372702272,\n",
       "  '3': 0.45662317631234906,\n",
       "  '4': 0.30681674828263106,\n",
       "  '5': 0.16395292913503293},\n",
       " 'All': {'1': 0.8088235294117647,\n",
       "  '2': 0.5250610882650931,\n",
       "  '3': 0.371496757507033,\n",
       "  '4': 0.18872163337873554,\n",
       "  '5': 0.13910848595509842}}"
      ]
     },
     "execution_count": 10,
     "metadata": {},
     "output_type": "execute_result"
    }
   ],
   "source": [
    "x"
   ]
  },
  {
   "cell_type": "code",
   "execution_count": 11,
   "metadata": {},
   "outputs": [],
   "source": [
    "import matplotlib.pyplot as plt"
   ]
  },
  {
   "cell_type": "code",
   "execution_count": 12,
   "metadata": {},
   "outputs": [
    {
     "data": {
      "text/plain": [
       "[<matplotlib.lines.Line2D at 0x249ad355cc8>]"
      ]
     },
     "execution_count": 12,
     "metadata": {},
     "output_type": "execute_result"
    },
    {
     "data": {
      "image/png": "[encoded data removed]",
      "text/plain": [
       "<Figure size 432x288 with 1 Axes>"
      ]
     },
     "metadata": {
      "needs_background": "light"
     },
     "output_type": "display_data"
    }
   ],
   "source": [
    "plt.plot(list(x[\"Monotonicity\"].keys()),list(x[\"Monotonicity\"].values()))"
   ]
  },
  {
   "cell_type": "code",
   "execution_count": 13,
   "metadata": {},
   "outputs": [
    {
     "data": {
      "text/plain": [
       "Text(27.0, 0.5, '% of quantifiers in a language in this length')"
      ]
     },
     "execution_count": 13,
     "metadata": {},
     "output_type": "execute_result"
    },
    {
     "data": {
      "image/png": "[encoded data removed]",
      "text/plain": [
       "<Figure size 432x288 with 1 Axes>"
      ]
     },
     "metadata": {
      "needs_background": "light"
     },
     "output_type": "display_data"
    }
   ],
   "source": [
    "for title in row_titles:\n",
    "    plt.plot(list(x[title].keys()),list(x[title].values()),label=title)\n",
    "    \n",
    "    \n",
    "plt.title(\"Mean over 20 languages\")\n",
    "plt.savefig(\"mean over 20 langs.png\")\n",
    "plt.legend()\n",
    "plt.xlabel(\"Minimal length\")\n",
    "plt.ylabel(\"% of quantifiers in a language in this length\")\n"
   ]
  },
  {
   "cell_type": "code",
   "execution_count": 15,
   "metadata": {},
   "outputs": [],
   "source": [
    "import numpy as np"
   ]
  },
  {
   "cell_type": "code",
   "execution_count": 41,
   "metadata": {},
   "outputs": [
    {
     "data": {
      "text/plain": [
       "Text(27.0, 0.5, '% of quantifiers in a language in this length')"
      ]
     },
     "execution_count": 41,
     "metadata": {},
     "output_type": "execute_result"
    },
    {
     "data": {
      "image/png": "[encoded data removed]",
      "text/plain": [
       "<Figure size 432x288 with 1 Axes>"
      ]
     },
     "metadata": {
      "needs_background": "light"
     },
     "output_type": "display_data"
    }
   ],
   "source": [
    "for title in row_titles:\n",
    "    x_plot = [int(i) for i in list(x[title].keys())]\n",
    "    y_plot = [float(j) for j in list(x[title].values())]\n",
    "    p = plt.scatter(x_plot,y_plot,label=title)\n",
    "    \n",
    "    a,b = np.polyfit(x_plot, y_plot, deg=1)\n",
    "    xnums = np.linspace(1, 5, num=20)\n",
    "    plt.plot(xnums,a*xnums+b,linestyle=\"dotted\",color=\"gray\",alpha=0.5)\n",
    "    \n",
    "ax = plt.gca()\n",
    "ax.set_ylim([-0.1,1.1])\n",
    "plt.title(\"Mean over 20 languages\")\n",
    "plt.savefig(\"mean over 20 langs.png\")\n",
    "plt.legend()\n",
    "plt.xlabel(\"Minimal length\")\n",
    "plt.xticks([1,2,3,4,5])\n",
    "plt.ylabel(\"% of quantifiers in a language in this length\")\n",
    "\n"
   ]
  },
  {
   "cell_type": "markdown",
   "metadata": {},
   "source": [
    "Now, I'd like to collect the original data so that I could count the phrases that have the universal vs. the ones that don't."
   ]
  },
  {
   "cell_type": "code",
   "execution_count": 43,
   "metadata": {},
   "outputs": [],
   "source": [
    "import os\n",
    "from os import listdir\n",
    "from os.path import isfile, join"
   ]
  },
  {
   "cell_type": "code",
   "execution_count": 44,
   "metadata": {},
   "outputs": [],
   "source": [
    "mypath = os.getcwd()\n",
    "onlyXLfiles = [f for f in listdir(mypath) if isfile(join(mypath, f)) and f[-4:]==\"xlsx\" and f[:4] == \"lang\"]"
   ]
  },
  {
   "cell_type": "code",
   "execution_count": 45,
   "metadata": {},
   "outputs": [
    {
     "data": {
      "text/plain": [
       "list"
      ]
     },
     "execution_count": 45,
     "metadata": {},
     "output_type": "execute_result"
    }
   ],
   "source": [
    "type(onlyXLfiles)"
   ]
  },
  {
   "cell_type": "code",
   "execution_count": 59,
   "metadata": {},
   "outputs": [],
   "source": [
    "dfs = {}\n",
    "for f in onlyXLfiles:\n",
    "    xl = pd.ExcelFile(f)\n",
    "    \n",
    "    dfs.update({f:pd.read_excel(xl, xl.sheet_names[-1])})"
   ]
  },
  {
   "cell_type": "code",
   "execution_count": 60,
   "metadata": {},
   "outputs": [
    {
     "data": {
      "text/plain": [
       "24"
      ]
     },
     "execution_count": 60,
     "metadata": {},
     "output_type": "execute_result"
    }
   ],
   "source": [
    "len(dfs)"
   ]
  },
  {
   "cell_type": "code",
   "execution_count": 61,
   "metadata": {},
   "outputs": [
    {
     "data": {
      "text/plain": [
       "dict_keys(['language=Logical-max_model_size=8-max-expr-len=5.xlsx', 'language=Logical_and_comp-max_model_size=8-max-expr-len=5.xlsx', 'language=Logical_and_comp_nocard-max_model_size=8-max-expr-len=5.xlsx', 'language=Logical_and_comp_subset-max_model_size=8-max-expr-len=5.xlsx', 'language=Logical_and_diff-max_model_size=8-max-expr-len=5.xlsx', 'language=Logical_comp-max_model_size=8-max-expr-len=5.xlsx', 'language=Logical_comp_nodiff-max_model_size=8-max-expr-len=5.xlsx', 'language=Logical_entail_comp-max_model_size=8-max-expr-len=5.xlsx', 'language=Logical_entail_diff-max_model_size=8-max-expr-len=5.xlsx', 'language=Logical_nand-max_model_size=8-max-expr-len=5 (version 1).xlsx', 'language=Logical_nand_set-max_model_size=8-max-expr-len=5.xlsx', 'language=Logical_nor-max_model_size=8-max-expr-len=5.xlsx', 'language=Logical_nor_only-max_model_size=8-max-expr-len=5.xlsx', 'language=Logical_nor_set-max_model_size=8-max-expr-len=5.xlsx', 'language=Logical_union_comp-max_model_size=8-max-expr-len=5.xlsx', 'language=Logical_union_comp_nocard-max_model_size=8-max-expr-len=5.xlsx', 'language=Logical_union_comp_nocard-max_model_size=8-max-expr-len=7.xlsx', 'language=Logical_union_comp_subset-max_model_size=8-max-expr-len=5.xlsx', 'language=Logical_union_diff-max_model_size=8-max-expr-len=5.xlsx', 'language=Logical_xor_and-max_model_size=8-max-expr-len=5.xlsx', 'language=Logical_xor_not-max_model_size=8-max-expr-len=5.xlsx', 'language=Logical_xor_only-max_model_size=8-max-expr-len=5.xlsx', 'language=Logical_xor_or-max_model_size=8-max-expr-len=5 (מעודכן.xlsx', 'language=Logical_xor_or-max_model_size=8-max-expr-len=5.xlsx'])"
      ]
     },
     "execution_count": 61,
     "metadata": {},
     "output_type": "execute_result"
    }
   ],
   "source": [
    "dfs.keys()"
   ]
  },
  {
   "cell_type": "code",
   "execution_count": 62,
   "metadata": {},
   "outputs": [
    {
     "name": "stdout",
     "output_type": "stream",
     "text": [
      "      expr_length                                         expression  \\\n",
      "0               1                                    ('>', '0', '0')   \n",
      "1               1                               ('subset', 'A', 'B')   \n",
      "2               1                                    ('>', '1', '0')   \n",
      "3               1                               ('subset', 'B', 'A')   \n",
      "4               2                          ('>', '2', ('card', 'B'))   \n",
      "...           ...                                                ...   \n",
      "2140            5  ('or', ('>', '2', ('card', 'B')), ('=', ('card...   \n",
      "2141            5  ('or', ('>', '2', ('card', 'B')), ('=', ('card...   \n",
      "2142            5  ('or', ('>', '2', ('card', 'B')), ('=', ('card...   \n",
      "2143            5  ('or', ('>', '2', ('card', 'A')), ('>', ('card...   \n",
      "2144            5  ('not', ('or', ('subset', 'A', 'B'), ('=', ('c...   \n",
      "\n",
      "      monotonicity  quantity  conservativity  flo-mon  flo-con    lempel_ziv  \\\n",
      "0              1.0         1        1.000000        1        1     13.264443   \n",
      "1              1.0         1        1.000000        1        1   4264.518296   \n",
      "2              1.0         1        1.000000        1        1     13.264443   \n",
      "3              1.0         1        0.482210        1        0   3654.353936   \n",
      "4              1.0         1        0.460875        1        0   2546.772979   \n",
      "...            ...       ...             ...      ...      ...           ...   \n",
      "2140           1.0         1        0.962444        1        0   8966.763198   \n",
      "2141           1.0         1        0.937902        1        0   6095.011375   \n",
      "2142           1.0         1        0.825396        1        0   3521.709510   \n",
      "2143           1.0         1        0.677653        1        0   6698.543513   \n",
      "2144           1.0         1        1.000000        1        1  11520.168398   \n",
      "\n",
      "      uniformity  max_model_size      lot              subsets       date  \n",
      "0       1.000000               8  Logical  3_AnotB_AandB_BnotA 2022-06-07  \n",
      "1       0.948171               8  Logical  3_AnotB_AandB_BnotA 2022-06-07  \n",
      "2       1.000000               8  Logical  3_AnotB_AandB_BnotA 2022-06-07  \n",
      "3       0.948171               8  Logical  3_AnotB_AandB_BnotA 2022-06-07  \n",
      "4       0.991870               8  Logical  3_AnotB_AandB_BnotA 2022-06-07  \n",
      "...          ...             ...      ...                  ...        ...  \n",
      "2140    0.759146               8  Logical  3_AnotB_AandB_BnotA 2022-06-07  \n",
      "2141    0.876423               8  Logical  3_AnotB_AandB_BnotA 2022-06-07  \n",
      "2142    0.966768               8  Logical  3_AnotB_AandB_BnotA 2022-06-07  \n",
      "2143    0.851321               8  Logical  3_AnotB_AandB_BnotA 2022-06-07  \n",
      "2144    0.683537               8  Logical  3_AnotB_AandB_BnotA 2022-06-07  \n",
      "\n",
      "[2145 rows x 13 columns]\n"
     ]
    }
   ],
   "source": [
    "print(dfs[list(dfs.keys())[0]])"
   ]
  },
  {
   "cell_type": "code",
   "execution_count": 68,
   "metadata": {},
   "outputs": [
    {
     "name": "stdout",
     "output_type": "stream",
     "text": [
      "Index(['expr_length', 'expression', 'monotonicity', 'quantity',\n",
      "       'conservativity', 'flo-mon', 'flo-con', 'lempel_ziv', 'uniformity',\n",
      "       'max_model_size', 'lot', 'subsets', 'date'],\n",
      "      dtype='object')\n",
      "Index(['expr_length', 'expression', 'monotonicity', 'quantity',\n",
      "       'conservativity', 'flo-mon', 'flo-con', 'lempel_ziv', 'uniformity',\n",
      "       'max_model_size', 'lot', 'subsets', 'date'],\n",
      "      dtype='object')\n",
      "Index(['expr_length', 'expression', 'monotonicity', 'quantity',\n",
      "       'conservativity', 'fo-mo', 'flo-con', 'lempel_ziv', 'uniformity',\n",
      "       'max_model_size', 'lot', 'subsets', 'date'],\n",
      "      dtype='object')\n",
      "Index(['expr_length', 'expression', 'monotonicity', 'quantity',\n",
      "       'conservativity', 'flo-mon', 'flo-con', 'lempel_ziv', 'uniformity',\n",
      "       'max_model_size', 'lot', 'subsets', 'date'],\n",
      "      dtype='object')\n",
      "Index(['expr_length', 'expression', 'monotonicity', 'quantity',\n",
      "       'conservativity', 'flo-mon', 'flo-con', 'lempel_ziv', 'uniformity',\n",
      "       'max_model_size', 'lot', 'subsets', 'date'],\n",
      "      dtype='object')\n",
      "Index(['expr_length', 'expression', 'monotonicity', 'quantity',\n",
      "       'conservativity', 'flo-mon', 'flo-con', 'lempel_ziv', 'uniformity',\n",
      "       'max_model_size', 'lot', 'subsets', 'date'],\n",
      "      dtype='object')\n",
      "Index(['expr_length', 'expression', 'monotonicity', 'quantity',\n",
      "       'conservativity', 'flo-mon', 'flo-con', 'lempel_ziv', 'uniformity',\n",
      "       'max_model_size', 'lot', 'subsets', 'date'],\n",
      "      dtype='object')\n",
      "Index(['expr_length', 'expression', 'monotonicity', 'quantity',\n",
      "       'conservativity', 'flo_mon', 'flo_con', 'lempel_ziv', 'uniformity',\n",
      "       'max_model_size', 'lot', 'subsets', 'date'],\n",
      "      dtype='object')\n",
      "Index(['expr_length', 'expression', 'monotonicity', 'quantity',\n",
      "       'conservativity', 'flo-mon', 'flo-con', 'lempel_ziv', 'uniformity',\n",
      "       'max_model_size', 'lot', 'subsets', 'date'],\n",
      "      dtype='object')\n",
      "Index(['expr_length', 'z-score ml', 'expression', 'monotonicity', 'flo-mono',\n",
      "       'quantity', 'flo-quan', 'conservativity', 'flo-con', 'lempel_ziv',\n",
      "       'uniformity', 'max_model_size', 'lot', 'subsets', 'date'],\n",
      "      dtype='object')\n",
      "Index(['expr_length', 'expression', 'monotonicity', 'quantity',\n",
      "       'conservativity', 'flo-mon', 'flo-quan', 'flo-con', 'lempel_ziv',\n",
      "       'uniformity', 'max_model_size', 'lot', 'subsets', 'date'],\n",
      "      dtype='object')\n",
      "Index(['expr_length', 'z-score ml', 'expression', 'monotonicity', 'quantity',\n",
      "       'conservativity', 'lempel_ziv', 'uniformity', 'max_model_size', 'lot',\n",
      "       'subsets', 'date', 'flo-mono', 'flo-quan', 'flo-con'],\n",
      "      dtype='object')\n",
      "Index(['expr_length', 'expression', 'flo-mono', 'flo-quan', 'flo-con',\n",
      "       'monotonicity', 'quantity', 'conservativity', 'lempel_ziv',\n",
      "       'uniformity', 'max_model_size', 'lot', 'subsets', 'date'],\n",
      "      dtype='object')\n",
      "Index(['expr_length', 'expression', 'monotonicity', 'quantity',\n",
      "       'conservativity', 'flo-mon', 'flo-con', 'lempel_ziv', 'uniformity',\n",
      "       'max_model_size', 'lot', 'subsets', 'date'],\n",
      "      dtype='object')\n",
      "Index(['expr_length', 'expression', 'monotonicity', 'quantity',\n",
      "       'conservativity', 'flo-mon', 'flo-con', 'lempel_ziv', 'uniformity',\n",
      "       'max_model_size', 'lot', 'subsets', 'date'],\n",
      "      dtype='object')\n",
      "Index(['expr_length', 'expression', 'monotonicity', 'quantity',\n",
      "       'conservativity', 'flo-mon', 'flo-con', 'lempel_ziv', 'uniformity',\n",
      "       'max_model_size', 'lot', 'subsets', 'date'],\n",
      "      dtype='object')\n",
      "Index(['expr_length', 'expression', 'monotonicity', 'quantity',\n",
      "       'conservativity', 'fol-mon', 'flo-con', 'lempel_ziv', 'uniformity',\n",
      "       'max_model_size', 'lot', 'subsets', 'date'],\n",
      "      dtype='object')\n",
      "Index(['expr_length', 'expression', 'monotonicity', 'quantity',\n",
      "       'conservativity', 'flo-mon', 'fol-con', 'lempel_ziv', 'uniformity',\n",
      "       'max_model_size', 'lot', 'subsets', 'date'],\n",
      "      dtype='object')\n",
      "Index(['expr_length', 'expression', 'monotonicity', 'quantity',\n",
      "       'conservativity', 'flo-mon', 'flo-con', 'lempel_ziv', 'uniformity',\n",
      "       'max_model_size', 'lot', 'subsets', 'date'],\n",
      "      dtype='object')\n",
      "Index(['expr_length', 'expression', 'monotonicity', 'quantity',\n",
      "       'conservativity', 'flo-mon', 'flo-quan', 'flo-con', 'lempel_ziv',\n",
      "       'uniformity', 'max_model_size', 'lot', 'subsets', 'date'],\n",
      "      dtype='object')\n",
      "Index(['expr_length', 'expression', 'monotonicity', 'quantity',\n",
      "       'conservativity', 'flo-mon', 'flo-quan', 'flo-con', 'lempel_ziv',\n",
      "       'uniformity', 'max_model_size', 'lot', 'subsets', 'date'],\n",
      "      dtype='object')\n",
      "Index(['expr_length', 'expression', 'monotonicity', 'quantity',\n",
      "       'conservativity', 'lempel_ziv', 'uniformity', 'max_model_size', 'lot',\n",
      "       'subsets', 'date'],\n",
      "      dtype='object')\n",
      "Index(['expr_length', 'expression', 'monotonicity', 'quantity',\n",
      "       'conservativity', 'flo-mon', 'flo-quan', 'flo-con', 'lempel_ziv',\n",
      "       'uniformity', 'max_model_size', 'lot', 'subsets', 'date'],\n",
      "      dtype='object')\n",
      "Index(['expr_length', 'expression', 'monotonicity', 'quantity',\n",
      "       'conservativity', 'lempel_ziv', 'uniformity', 'max_model_size', 'lot',\n",
      "       'subsets', 'date'],\n",
      "      dtype='object')\n"
     ]
    }
   ],
   "source": [
    "for lang, df in dfs.items():\n",
    "    print(df.columns)\n",
    "    \n",
    "    "
   ]
  },
  {
   "cell_type": "code",
   "execution_count": 71,
   "metadata": {},
   "outputs": [
    {
     "name": "stdout",
     "output_type": "stream",
     "text": [
      "language=Logical_and_comp_nocard-max_model_size=8-max-expr-len=5.xlsx : doesn't have : flo-mon\n",
      "language=Logical_entail_comp-max_model_size=8-max-expr-len=5.xlsx : doesn't have : flo-mon\n",
      "language=Logical_entail_comp-max_model_size=8-max-expr-len=5.xlsx : doesn't have : flo-con\n",
      "language=Logical_nand-max_model_size=8-max-expr-len=5 (version 1).xlsx : doesn't have : flo-mon\n",
      "language=Logical_nor-max_model_size=8-max-expr-len=5.xlsx : doesn't have : flo-mon\n",
      "language=Logical_nor_only-max_model_size=8-max-expr-len=5.xlsx : doesn't have : flo-mon\n",
      "language=Logical_union_comp_nocard-max_model_size=8-max-expr-len=7.xlsx : doesn't have : flo-mon\n",
      "language=Logical_union_comp_subset-max_model_size=8-max-expr-len=5.xlsx : doesn't have : flo-con\n",
      "language=Logical_xor_only-max_model_size=8-max-expr-len=5.xlsx : doesn't have : flo-mon\n",
      "language=Logical_xor_only-max_model_size=8-max-expr-len=5.xlsx : doesn't have : flo-con\n",
      "language=Logical_xor_or-max_model_size=8-max-expr-len=5.xlsx : doesn't have : flo-mon\n",
      "language=Logical_xor_or-max_model_size=8-max-expr-len=5.xlsx : doesn't have : flo-con\n"
     ]
    }
   ],
   "source": [
    "universals = [\"flo-mon\",\"flo-con\"]\n",
    "\n",
    "for lang, df in dfs.items():\n",
    "    for u in universals:\n",
    "        if u not in df.columns:\n",
    "            print(lang + \" : doesn't have : \" + u)\n",
    "    "
   ]
  },
  {
   "cell_type": "code",
   "execution_count": 75,
   "metadata": {},
   "outputs": [],
   "source": [
    "import re"
   ]
  },
  {
   "cell_type": "code",
   "execution_count": 91,
   "metadata": {},
   "outputs": [],
   "source": [
    "pattern_flo_mon = re.compile(\"f.o.mo\")\n",
    "pattern_flo_con = re.compile(\"f.o.co.\")\n",
    "patterns = [pattern_flo_mon,pattern_flo_con]"
   ]
  },
  {
   "cell_type": "code",
   "execution_count": 94,
   "metadata": {},
   "outputs": [
    {
     "name": "stdout",
     "output_type": "stream",
     "text": [
      "0.19254079254079254\n",
      "0.1843191196698762\n",
      "0.45454545454545453\n",
      "0.2144927536231884\n",
      "0.18538565629228687\n",
      "0.19058606368251038\n",
      "0.1978131212723658\n"
     ]
    },
    {
     "ename": "KeyError",
     "evalue": "'flo-con'",
     "output_type": "error",
     "traceback": [
      "\u001b[1;31m---------------------------------------------------------------------------\u001b[0m",
      "\u001b[1;31mKeyError\u001b[0m                                  Traceback (most recent call last)",
      "\u001b[1;32m~\\Anaconda3\\lib\\site-packages\\pandas\\core\\indexes\\base.py\u001b[0m in \u001b[0;36mget_loc\u001b[1;34m(self, key, method, tolerance)\u001b[0m\n\u001b[0;32m   2645\u001b[0m             \u001b[1;32mtry\u001b[0m\u001b[1;33m:\u001b[0m\u001b[1;33m\u001b[0m\u001b[1;33m\u001b[0m\u001b[0m\n\u001b[1;32m-> 2646\u001b[1;33m                 \u001b[1;32mreturn\u001b[0m \u001b[0mself\u001b[0m\u001b[1;33m.\u001b[0m\u001b[0m_engine\u001b[0m\u001b[1;33m.\u001b[0m\u001b[0mget_loc\u001b[0m\u001b[1;33m(\u001b[0m\u001b[0mkey\u001b[0m\u001b[1;33m)\u001b[0m\u001b[1;33m\u001b[0m\u001b[1;33m\u001b[0m\u001b[0m\n\u001b[0m\u001b[0;32m   2647\u001b[0m             \u001b[1;32mexcept\u001b[0m \u001b[0mKeyError\u001b[0m\u001b[1;33m:\u001b[0m\u001b[1;33m\u001b[0m\u001b[1;33m\u001b[0m\u001b[0m\n",
      "\u001b[1;32mpandas\\_libs\\index.pyx\u001b[0m in \u001b[0;36mpandas._libs.index.IndexEngine.get_loc\u001b[1;34m()\u001b[0m\n",
      "\u001b[1;32mpandas\\_libs\\index.pyx\u001b[0m in \u001b[0;36mpandas._libs.index.IndexEngine.get_loc\u001b[1;34m()\u001b[0m\n",
      "\u001b[1;32mpandas\\_libs\\hashtable_class_helper.pxi\u001b[0m in \u001b[0;36mpandas._libs.hashtable.PyObjectHashTable.get_item\u001b[1;34m()\u001b[0m\n",
      "\u001b[1;32mpandas\\_libs\\hashtable_class_helper.pxi\u001b[0m in \u001b[0;36mpandas._libs.hashtable.PyObjectHashTable.get_item\u001b[1;34m()\u001b[0m\n",
      "\u001b[1;31mKeyError\u001b[0m: 'flo-con'",
      "\nDuring handling of the above exception, another exception occurred:\n",
      "\u001b[1;31mKeyError\u001b[0m                                  Traceback (most recent call last)",
      "\u001b[1;32m<ipython-input-94-8df0a47e84e1>\u001b[0m in \u001b[0;36m<module>\u001b[1;34m\u001b[0m\n\u001b[0;32m      1\u001b[0m \u001b[1;32mfor\u001b[0m \u001b[0mlang\u001b[0m\u001b[1;33m,\u001b[0m \u001b[0mdf\u001b[0m \u001b[1;32min\u001b[0m \u001b[0mdfs\u001b[0m\u001b[1;33m.\u001b[0m\u001b[0mitems\u001b[0m\u001b[1;33m(\u001b[0m\u001b[1;33m)\u001b[0m\u001b[1;33m:\u001b[0m\u001b[1;33m\u001b[0m\u001b[1;33m\u001b[0m\u001b[0m\n\u001b[1;32m----> 2\u001b[1;33m     \u001b[0mprint\u001b[0m\u001b[1;33m(\u001b[0m\u001b[0mdf\u001b[0m\u001b[1;33m[\u001b[0m\u001b[1;34m'flo-con'\u001b[0m\u001b[1;33m]\u001b[0m\u001b[1;33m.\u001b[0m\u001b[0mmean\u001b[0m\u001b[1;33m(\u001b[0m\u001b[1;33m)\u001b[0m\u001b[1;33m)\u001b[0m\u001b[1;33m\u001b[0m\u001b[1;33m\u001b[0m\u001b[0m\n\u001b[0m",
      "\u001b[1;32m~\\Anaconda3\\lib\\site-packages\\pandas\\core\\frame.py\u001b[0m in \u001b[0;36m__getitem__\u001b[1;34m(self, key)\u001b[0m\n\u001b[0;32m   2798\u001b[0m             \u001b[1;32mif\u001b[0m \u001b[0mself\u001b[0m\u001b[1;33m.\u001b[0m\u001b[0mcolumns\u001b[0m\u001b[1;33m.\u001b[0m\u001b[0mnlevels\u001b[0m \u001b[1;33m>\u001b[0m \u001b[1;36m1\u001b[0m\u001b[1;33m:\u001b[0m\u001b[1;33m\u001b[0m\u001b[1;33m\u001b[0m\u001b[0m\n\u001b[0;32m   2799\u001b[0m                 \u001b[1;32mreturn\u001b[0m \u001b[0mself\u001b[0m\u001b[1;33m.\u001b[0m\u001b[0m_getitem_multilevel\u001b[0m\u001b[1;33m(\u001b[0m\u001b[0mkey\u001b[0m\u001b[1;33m)\u001b[0m\u001b[1;33m\u001b[0m\u001b[1;33m\u001b[0m\u001b[0m\n\u001b[1;32m-> 2800\u001b[1;33m             \u001b[0mindexer\u001b[0m \u001b[1;33m=\u001b[0m \u001b[0mself\u001b[0m\u001b[1;33m.\u001b[0m\u001b[0mcolumns\u001b[0m\u001b[1;33m.\u001b[0m\u001b[0mget_loc\u001b[0m\u001b[1;33m(\u001b[0m\u001b[0mkey\u001b[0m\u001b[1;33m)\u001b[0m\u001b[1;33m\u001b[0m\u001b[1;33m\u001b[0m\u001b[0m\n\u001b[0m\u001b[0;32m   2801\u001b[0m             \u001b[1;32mif\u001b[0m \u001b[0mis_integer\u001b[0m\u001b[1;33m(\u001b[0m\u001b[0mindexer\u001b[0m\u001b[1;33m)\u001b[0m\u001b[1;33m:\u001b[0m\u001b[1;33m\u001b[0m\u001b[1;33m\u001b[0m\u001b[0m\n\u001b[0;32m   2802\u001b[0m                 \u001b[0mindexer\u001b[0m \u001b[1;33m=\u001b[0m \u001b[1;33m[\u001b[0m\u001b[0mindexer\u001b[0m\u001b[1;33m]\u001b[0m\u001b[1;33m\u001b[0m\u001b[1;33m\u001b[0m\u001b[0m\n",
      "\u001b[1;32m~\\Anaconda3\\lib\\site-packages\\pandas\\core\\indexes\\base.py\u001b[0m in \u001b[0;36mget_loc\u001b[1;34m(self, key, method, tolerance)\u001b[0m\n\u001b[0;32m   2646\u001b[0m                 \u001b[1;32mreturn\u001b[0m \u001b[0mself\u001b[0m\u001b[1;33m.\u001b[0m\u001b[0m_engine\u001b[0m\u001b[1;33m.\u001b[0m\u001b[0mget_loc\u001b[0m\u001b[1;33m(\u001b[0m\u001b[0mkey\u001b[0m\u001b[1;33m)\u001b[0m\u001b[1;33m\u001b[0m\u001b[1;33m\u001b[0m\u001b[0m\n\u001b[0;32m   2647\u001b[0m             \u001b[1;32mexcept\u001b[0m \u001b[0mKeyError\u001b[0m\u001b[1;33m:\u001b[0m\u001b[1;33m\u001b[0m\u001b[1;33m\u001b[0m\u001b[0m\n\u001b[1;32m-> 2648\u001b[1;33m                 \u001b[1;32mreturn\u001b[0m \u001b[0mself\u001b[0m\u001b[1;33m.\u001b[0m\u001b[0m_engine\u001b[0m\u001b[1;33m.\u001b[0m\u001b[0mget_loc\u001b[0m\u001b[1;33m(\u001b[0m\u001b[0mself\u001b[0m\u001b[1;33m.\u001b[0m\u001b[0m_maybe_cast_indexer\u001b[0m\u001b[1;33m(\u001b[0m\u001b[0mkey\u001b[0m\u001b[1;33m)\u001b[0m\u001b[1;33m)\u001b[0m\u001b[1;33m\u001b[0m\u001b[1;33m\u001b[0m\u001b[0m\n\u001b[0m\u001b[0;32m   2649\u001b[0m         \u001b[0mindexer\u001b[0m \u001b[1;33m=\u001b[0m \u001b[0mself\u001b[0m\u001b[1;33m.\u001b[0m\u001b[0mget_indexer\u001b[0m\u001b[1;33m(\u001b[0m\u001b[1;33m[\u001b[0m\u001b[0mkey\u001b[0m\u001b[1;33m]\u001b[0m\u001b[1;33m,\u001b[0m \u001b[0mmethod\u001b[0m\u001b[1;33m=\u001b[0m\u001b[0mmethod\u001b[0m\u001b[1;33m,\u001b[0m \u001b[0mtolerance\u001b[0m\u001b[1;33m=\u001b[0m\u001b[0mtolerance\u001b[0m\u001b[1;33m)\u001b[0m\u001b[1;33m\u001b[0m\u001b[1;33m\u001b[0m\u001b[0m\n\u001b[0;32m   2650\u001b[0m         \u001b[1;32mif\u001b[0m \u001b[0mindexer\u001b[0m\u001b[1;33m.\u001b[0m\u001b[0mndim\u001b[0m \u001b[1;33m>\u001b[0m \u001b[1;36m1\u001b[0m \u001b[1;32mor\u001b[0m \u001b[0mindexer\u001b[0m\u001b[1;33m.\u001b[0m\u001b[0msize\u001b[0m \u001b[1;33m>\u001b[0m \u001b[1;36m1\u001b[0m\u001b[1;33m:\u001b[0m\u001b[1;33m\u001b[0m\u001b[1;33m\u001b[0m\u001b[0m\n",
      "\u001b[1;32mpandas\\_libs\\index.pyx\u001b[0m in \u001b[0;36mpandas._libs.index.IndexEngine.get_loc\u001b[1;34m()\u001b[0m\n",
      "\u001b[1;32mpandas\\_libs\\index.pyx\u001b[0m in \u001b[0;36mpandas._libs.index.IndexEngine.get_loc\u001b[1;34m()\u001b[0m\n",
      "\u001b[1;32mpandas\\_libs\\hashtable_class_helper.pxi\u001b[0m in \u001b[0;36mpandas._libs.hashtable.PyObjectHashTable.get_item\u001b[1;34m()\u001b[0m\n",
      "\u001b[1;32mpandas\\_libs\\hashtable_class_helper.pxi\u001b[0m in \u001b[0;36mpandas._libs.hashtable.PyObjectHashTable.get_item\u001b[1;34m()\u001b[0m\n",
      "\u001b[1;31mKeyError\u001b[0m: 'flo-con'"
     ]
    }
   ],
   "source": [
    "for lang, df in dfs.items():\n",
    "    print(df['flo-con'].mean())\n"
   ]
  },
  {
   "cell_type": "code",
   "execution_count": 110,
   "metadata": {},
   "outputs": [],
   "source": [
    "import scipy.stats as st"
   ]
  },
  {
   "cell_type": "code",
   "execution_count": 118,
   "metadata": {},
   "outputs": [],
   "source": [
    "for lang, df in dfs.items():\n",
    "    dfs[lang][\"flo_mon\"] = (np.floor(df.monotonicity))\n",
    "    dfs[lang] = df.drop([\"z_flo_mon\"],axis='columns')\n",
    "    \n",
    "    "
   ]
  },
  {
   "cell_type": "code",
   "execution_count": 119,
   "metadata": {},
   "outputs": [
    {
     "data": {
      "text/html": [
       "<div>\n",
       "<style scoped>\n",
       "    .dataframe tbody tr th:only-of-type {\n",
       "        vertical-align: middle;\n",
       "    }\n",
       "\n",
       "    .dataframe tbody tr th {\n",
       "        vertical-align: top;\n",
       "    }\n",
       "\n",
       "    .dataframe thead th {\n",
       "        text-align: right;\n",
       "    }\n",
       "</style>\n",
       "<table border=\"1\" class=\"dataframe\">\n",
       "  <thead>\n",
       "    <tr style=\"text-align: right;\">\n",
       "      <th></th>\n",
       "      <th>expr_length</th>\n",
       "      <th>expression</th>\n",
       "      <th>monotonicity</th>\n",
       "      <th>quantity</th>\n",
       "      <th>conservativity</th>\n",
       "      <th>flo-mon</th>\n",
       "      <th>flo-con</th>\n",
       "      <th>lempel_ziv</th>\n",
       "      <th>uniformity</th>\n",
       "      <th>max_model_size</th>\n",
       "      <th>lot</th>\n",
       "      <th>subsets</th>\n",
       "      <th>date</th>\n",
       "      <th>flo_mon</th>\n",
       "    </tr>\n",
       "  </thead>\n",
       "  <tbody>\n",
       "    <tr>\n",
       "      <th>0</th>\n",
       "      <td>1</td>\n",
       "      <td>('&gt;', '0', '0')</td>\n",
       "      <td>1.0</td>\n",
       "      <td>1</td>\n",
       "      <td>1.000000</td>\n",
       "      <td>1</td>\n",
       "      <td>1</td>\n",
       "      <td>13.264443</td>\n",
       "      <td>1.000000</td>\n",
       "      <td>8</td>\n",
       "      <td>Logical</td>\n",
       "      <td>3_AnotB_AandB_BnotA</td>\n",
       "      <td>2022-06-07</td>\n",
       "      <td>1.0</td>\n",
       "    </tr>\n",
       "    <tr>\n",
       "      <th>1</th>\n",
       "      <td>1</td>\n",
       "      <td>('subset', 'A', 'B')</td>\n",
       "      <td>1.0</td>\n",
       "      <td>1</td>\n",
       "      <td>1.000000</td>\n",
       "      <td>1</td>\n",
       "      <td>1</td>\n",
       "      <td>4264.518296</td>\n",
       "      <td>0.948171</td>\n",
       "      <td>8</td>\n",
       "      <td>Logical</td>\n",
       "      <td>3_AnotB_AandB_BnotA</td>\n",
       "      <td>2022-06-07</td>\n",
       "      <td>1.0</td>\n",
       "    </tr>\n",
       "    <tr>\n",
       "      <th>2</th>\n",
       "      <td>1</td>\n",
       "      <td>('&gt;', '1', '0')</td>\n",
       "      <td>1.0</td>\n",
       "      <td>1</td>\n",
       "      <td>1.000000</td>\n",
       "      <td>1</td>\n",
       "      <td>1</td>\n",
       "      <td>13.264443</td>\n",
       "      <td>1.000000</td>\n",
       "      <td>8</td>\n",
       "      <td>Logical</td>\n",
       "      <td>3_AnotB_AandB_BnotA</td>\n",
       "      <td>2022-06-07</td>\n",
       "      <td>1.0</td>\n",
       "    </tr>\n",
       "    <tr>\n",
       "      <th>3</th>\n",
       "      <td>1</td>\n",
       "      <td>('subset', 'B', 'A')</td>\n",
       "      <td>1.0</td>\n",
       "      <td>1</td>\n",
       "      <td>0.482210</td>\n",
       "      <td>1</td>\n",
       "      <td>0</td>\n",
       "      <td>3654.353936</td>\n",
       "      <td>0.948171</td>\n",
       "      <td>8</td>\n",
       "      <td>Logical</td>\n",
       "      <td>3_AnotB_AandB_BnotA</td>\n",
       "      <td>2022-06-07</td>\n",
       "      <td>1.0</td>\n",
       "    </tr>\n",
       "    <tr>\n",
       "      <th>4</th>\n",
       "      <td>2</td>\n",
       "      <td>('&gt;', '2', ('card', 'B'))</td>\n",
       "      <td>1.0</td>\n",
       "      <td>1</td>\n",
       "      <td>0.460875</td>\n",
       "      <td>1</td>\n",
       "      <td>0</td>\n",
       "      <td>2546.772979</td>\n",
       "      <td>0.991870</td>\n",
       "      <td>8</td>\n",
       "      <td>Logical</td>\n",
       "      <td>3_AnotB_AandB_BnotA</td>\n",
       "      <td>2022-06-07</td>\n",
       "      <td>1.0</td>\n",
       "    </tr>\n",
       "    <tr>\n",
       "      <th>...</th>\n",
       "      <td>...</td>\n",
       "      <td>...</td>\n",
       "      <td>...</td>\n",
       "      <td>...</td>\n",
       "      <td>...</td>\n",
       "      <td>...</td>\n",
       "      <td>...</td>\n",
       "      <td>...</td>\n",
       "      <td>...</td>\n",
       "      <td>...</td>\n",
       "      <td>...</td>\n",
       "      <td>...</td>\n",
       "      <td>...</td>\n",
       "      <td>...</td>\n",
       "    </tr>\n",
       "    <tr>\n",
       "      <th>2140</th>\n",
       "      <td>5</td>\n",
       "      <td>('or', ('&gt;', '2', ('card', 'B')), ('=', ('card...</td>\n",
       "      <td>1.0</td>\n",
       "      <td>1</td>\n",
       "      <td>0.962444</td>\n",
       "      <td>1</td>\n",
       "      <td>0</td>\n",
       "      <td>8966.763198</td>\n",
       "      <td>0.759146</td>\n",
       "      <td>8</td>\n",
       "      <td>Logical</td>\n",
       "      <td>3_AnotB_AandB_BnotA</td>\n",
       "      <td>2022-06-07</td>\n",
       "      <td>1.0</td>\n",
       "    </tr>\n",
       "    <tr>\n",
       "      <th>2141</th>\n",
       "      <td>5</td>\n",
       "      <td>('or', ('&gt;', '2', ('card', 'B')), ('=', ('card...</td>\n",
       "      <td>1.0</td>\n",
       "      <td>1</td>\n",
       "      <td>0.937902</td>\n",
       "      <td>1</td>\n",
       "      <td>0</td>\n",
       "      <td>6095.011375</td>\n",
       "      <td>0.876423</td>\n",
       "      <td>8</td>\n",
       "      <td>Logical</td>\n",
       "      <td>3_AnotB_AandB_BnotA</td>\n",
       "      <td>2022-06-07</td>\n",
       "      <td>1.0</td>\n",
       "    </tr>\n",
       "    <tr>\n",
       "      <th>2142</th>\n",
       "      <td>5</td>\n",
       "      <td>('or', ('&gt;', '2', ('card', 'B')), ('=', ('card...</td>\n",
       "      <td>1.0</td>\n",
       "      <td>1</td>\n",
       "      <td>0.825396</td>\n",
       "      <td>1</td>\n",
       "      <td>0</td>\n",
       "      <td>3521.709510</td>\n",
       "      <td>0.966768</td>\n",
       "      <td>8</td>\n",
       "      <td>Logical</td>\n",
       "      <td>3_AnotB_AandB_BnotA</td>\n",
       "      <td>2022-06-07</td>\n",
       "      <td>1.0</td>\n",
       "    </tr>\n",
       "    <tr>\n",
       "      <th>2143</th>\n",
       "      <td>5</td>\n",
       "      <td>('or', ('&gt;', '2', ('card', 'A')), ('&gt;', ('card...</td>\n",
       "      <td>1.0</td>\n",
       "      <td>1</td>\n",
       "      <td>0.677653</td>\n",
       "      <td>1</td>\n",
       "      <td>0</td>\n",
       "      <td>6698.543513</td>\n",
       "      <td>0.851321</td>\n",
       "      <td>8</td>\n",
       "      <td>Logical</td>\n",
       "      <td>3_AnotB_AandB_BnotA</td>\n",
       "      <td>2022-06-07</td>\n",
       "      <td>1.0</td>\n",
       "    </tr>\n",
       "    <tr>\n",
       "      <th>2144</th>\n",
       "      <td>5</td>\n",
       "      <td>('not', ('or', ('subset', 'A', 'B'), ('=', ('c...</td>\n",
       "      <td>1.0</td>\n",
       "      <td>1</td>\n",
       "      <td>1.000000</td>\n",
       "      <td>1</td>\n",
       "      <td>1</td>\n",
       "      <td>11520.168398</td>\n",
       "      <td>0.683537</td>\n",
       "      <td>8</td>\n",
       "      <td>Logical</td>\n",
       "      <td>3_AnotB_AandB_BnotA</td>\n",
       "      <td>2022-06-07</td>\n",
       "      <td>1.0</td>\n",
       "    </tr>\n",
       "  </tbody>\n",
       "</table>\n",
       "<p>2145 rows × 14 columns</p>\n",
       "</div>"
      ],
      "text/plain": [
       "      expr_length                                         expression  \\\n",
       "0               1                                    ('>', '0', '0')   \n",
       "1               1                               ('subset', 'A', 'B')   \n",
       "2               1                                    ('>', '1', '0')   \n",
       "3               1                               ('subset', 'B', 'A')   \n",
       "4               2                          ('>', '2', ('card', 'B'))   \n",
       "...           ...                                                ...   \n",
       "2140            5  ('or', ('>', '2', ('card', 'B')), ('=', ('card...   \n",
       "2141            5  ('or', ('>', '2', ('card', 'B')), ('=', ('card...   \n",
       "2142            5  ('or', ('>', '2', ('card', 'B')), ('=', ('card...   \n",
       "2143            5  ('or', ('>', '2', ('card', 'A')), ('>', ('card...   \n",
       "2144            5  ('not', ('or', ('subset', 'A', 'B'), ('=', ('c...   \n",
       "\n",
       "      monotonicity  quantity  conservativity  flo-mon  flo-con    lempel_ziv  \\\n",
       "0              1.0         1        1.000000        1        1     13.264443   \n",
       "1              1.0         1        1.000000        1        1   4264.518296   \n",
       "2              1.0         1        1.000000        1        1     13.264443   \n",
       "3              1.0         1        0.482210        1        0   3654.353936   \n",
       "4              1.0         1        0.460875        1        0   2546.772979   \n",
       "...            ...       ...             ...      ...      ...           ...   \n",
       "2140           1.0         1        0.962444        1        0   8966.763198   \n",
       "2141           1.0         1        0.937902        1        0   6095.011375   \n",
       "2142           1.0         1        0.825396        1        0   3521.709510   \n",
       "2143           1.0         1        0.677653        1        0   6698.543513   \n",
       "2144           1.0         1        1.000000        1        1  11520.168398   \n",
       "\n",
       "      uniformity  max_model_size      lot              subsets       date  \\\n",
       "0       1.000000               8  Logical  3_AnotB_AandB_BnotA 2022-06-07   \n",
       "1       0.948171               8  Logical  3_AnotB_AandB_BnotA 2022-06-07   \n",
       "2       1.000000               8  Logical  3_AnotB_AandB_BnotA 2022-06-07   \n",
       "3       0.948171               8  Logical  3_AnotB_AandB_BnotA 2022-06-07   \n",
       "4       0.991870               8  Logical  3_AnotB_AandB_BnotA 2022-06-07   \n",
       "...          ...             ...      ...                  ...        ...   \n",
       "2140    0.759146               8  Logical  3_AnotB_AandB_BnotA 2022-06-07   \n",
       "2141    0.876423               8  Logical  3_AnotB_AandB_BnotA 2022-06-07   \n",
       "2142    0.966768               8  Logical  3_AnotB_AandB_BnotA 2022-06-07   \n",
       "2143    0.851321               8  Logical  3_AnotB_AandB_BnotA 2022-06-07   \n",
       "2144    0.683537               8  Logical  3_AnotB_AandB_BnotA 2022-06-07   \n",
       "\n",
       "      flo_mon  \n",
       "0         1.0  \n",
       "1         1.0  \n",
       "2         1.0  \n",
       "3         1.0  \n",
       "4         1.0  \n",
       "...       ...  \n",
       "2140      1.0  \n",
       "2141      1.0  \n",
       "2142      1.0  \n",
       "2143      1.0  \n",
       "2144      1.0  \n",
       "\n",
       "[2145 rows x 14 columns]"
      ]
     },
     "execution_count": 119,
     "metadata": {},
     "output_type": "execute_result"
    }
   ],
   "source": [
    "dfs[list(dfs.keys())[0]]"
   ]
  },
  {
   "cell_type": "code",
   "execution_count": 120,
   "metadata": {},
   "outputs": [],
   "source": [
    "for lang, df in dfs.items():\n",
    "    dfs[lang][\"z_ML\"] = st.zscore((df.expr_length))\n",
    "    \n",
    "    "
   ]
  },
  {
   "cell_type": "code",
   "execution_count": 124,
   "metadata": {},
   "outputs": [],
   "source": [
    "for lang, df in dfs.items():\n",
    "    dfs[lang][\"flo_con\"] = np.floor((df.conservativity))\n",
    "    \n",
    "    "
   ]
  },
  {
   "cell_type": "code",
   "execution_count": 127,
   "metadata": {},
   "outputs": [],
   "source": [
    "universals = [\"flo_mon\",\"flo_con\"]"
   ]
  },
  {
   "cell_type": "code",
   "execution_count": 131,
   "metadata": {},
   "outputs": [],
   "source": [
    "table_2 = {}\n",
    "\n",
    "for lang, df in dfs.items():\n",
    "    for u in universals:\n",
    "        avg_ML_forMon = df[df.flo_mon == 1].z_ML.mean()\n",
    "        avg_ML_forNoMon = df[df.flo_mon == 0].z_ML.mean()\n",
    "        avg_ML_forCon = df[df.flo_con == 1].z_ML.mean()\n",
    "        avg_ML_forNoCon = df[df.flo_con == 0].z_ML.mean()\n",
    "        table_2[lang] = {\"Monotonicity\":{\"YES\":avg_ML_forMon,\"NO\":avg_ML_forNoMon}, \"Conservativity\":{\"YES\":avg_ML_forCon,\"NO\":avg_ML_forNoCon}}"
   ]
  },
  {
   "cell_type": "code",
   "execution_count": 132,
   "metadata": {},
   "outputs": [
    {
     "data": {
      "text/plain": [
       "{'language=Logical-max_model_size=8-max-expr-len=5.xlsx': {'Monotonicity': {'YES': -0.04692901527410482,\n",
       "   'NO': 0.07362516168752582},\n",
       "  'Conservativity': {'YES': -0.4798388378575405, 'NO': 0.1144188452858932}},\n",
       " 'language=Logical_and_comp-max_model_size=8-max-expr-len=5.xlsx': {'Monotonicity': {'YES': -0.048340334542799505,\n",
       "   'NO': 0.09748299828962757},\n",
       "  'Conservativity': {'YES': -0.9845383006035178, 'NO': 0.22247577113131883}},\n",
       " 'language=Logical_and_comp_nocard-max_model_size=8-max-expr-len=5.xlsx': {'Monotonicity': {'YES': -0.1688380033632932,\n",
       "   'NO': 0.7597710151348211},\n",
       "  'Conservativity': {'YES': -0.3174154463229918, 'NO': 0.2645128719358268}},\n",
       " 'language=Logical_and_comp_subset-max_model_size=8-max-expr-len=5.xlsx': {'Monotonicity': {'YES': -0.04458677605695835,\n",
       "   'NO': 0.08764048245005718},\n",
       "  'Conservativity': {'YES': -0.636037729394525, 'NO': 0.1736781991704541}},\n",
       " 'language=Logical_and_diff-max_model_size=8-max-expr-len=5.xlsx': {'Monotonicity': {'YES': -0.028719079355289917,\n",
       "   'NO': 0.057205615557904564},\n",
       "  'Conservativity': {'YES': -1.0263082786139144, 'NO': 0.23356185078090608}},\n",
       " 'language=Logical_comp-max_model_size=8-max-expr-len=5.xlsx': {'Monotonicity': {'YES': -0.048807025977124774,\n",
       "   'NO': 0.07562218024927254},\n",
       "  'Conservativity': {'YES': -0.48595133849193145, 'NO': 0.11442297764947156}},\n",
       " 'language=Logical_comp_nodiff-max_model_size=8-max-expr-len=5.xlsx': {'Monotonicity': {'YES': -0.04122702754133695,\n",
       "   'NO': 0.07209097712148231},\n",
       "  'Conservativity': {'YES': -0.44340038592190223, 'NO': 0.10933912862263317}},\n",
       " 'language=Logical_entail_comp-max_model_size=8-max-expr-len=5.xlsx': {'Monotonicity': {'YES': -0.09591372368144135,\n",
       "   'NO': 0.13980281599102307},\n",
       "  'Conservativity': {'YES': -0.6095178297109792, 'NO': 0.11597312219365614}},\n",
       " 'language=Logical_entail_diff-max_model_size=8-max-expr-len=5.xlsx': {'Monotonicity': {'YES': -0.09741488456507277,\n",
       "   'NO': 0.1308645738434358},\n",
       "  'Conservativity': {'YES': -0.8245332978666884, 'NO': 0.15334308283495912}},\n",
       " 'language=Logical_nand-max_model_size=8-max-expr-len=5 (version 1).xlsx': {'Monotonicity': {'YES': -0.09161572633745158,\n",
       "   'NO': 0.11784116124111048},\n",
       "  'Conservativity': {'YES': -0.47526465016231473, 'NO': 0.12186273081085261}},\n",
       " 'language=Logical_nand_set-max_model_size=8-max-expr-len=5.xlsx': {'Monotonicity': {'YES': -0.0600032638958142,\n",
       "   'NO': 0.13119761272458022},\n",
       "  'Conservativity': {'YES': -0.5614037705358278, 'NO': 0.12060413829968043}},\n",
       " 'language=Logical_nor-max_model_size=8-max-expr-len=5.xlsx': {'Monotonicity': {'YES': -0.09249808599339757,\n",
       "   'NO': 0.1189761005211296},\n",
       "  'Conservativity': {'YES': -0.4766315190740603, 'NO': 0.12221321001898554}},\n",
       " 'language=Logical_nor_only-max_model_size=8-max-expr-len=5.xlsx': {'Monotonicity': {'YES': -0.09249808599339757,\n",
       "   'NO': 0.1189761005211296},\n",
       "  'Conservativity': {'YES': -0.4766315190740603, 'NO': 0.12221321001898554}},\n",
       " 'language=Logical_nor_set-max_model_size=8-max-expr-len=5.xlsx': {'Monotonicity': {'YES': -0.0697772003411882,\n",
       "   'NO': 0.1343158721282501},\n",
       "  'Conservativity': {'YES': -0.3710270596313763, 'NO': 0.10953192451884126}},\n",
       " 'language=Logical_union_comp-max_model_size=8-max-expr-len=5.xlsx': {'Monotonicity': {'YES': -0.055267974502517685,\n",
       "   'NO': 0.10512509835443229},\n",
       "  'Conservativity': {'YES': -0.3675682230992883, 'NO': 0.0884581224499033}},\n",
       " 'language=Logical_union_comp_nocard-max_model_size=8-max-expr-len=5.xlsx': {'Monotonicity': {'YES': -0.20205342453331857,\n",
       "   'NO': 0.5809035955332922},\n",
       "  'Conservativity': {'YES': -0.40366140500902475, 'NO': 0.2549440452688577}},\n",
       " 'language=Logical_union_comp_nocard-max_model_size=8-max-expr-len=7.xlsx': {'Monotonicity': {'YES': -0.6411621142321461,\n",
       "   'NO': 0.4616367222471448},\n",
       "  'Conservativity': {'YES': -0.9419460702500667, 'NO': 0.2153019589143011}},\n",
       " 'language=Logical_union_comp_subset-max_model_size=8-max-expr-len=5.xlsx': {'Monotonicity': {'YES': -0.05862703916954846,\n",
       "   'NO': 0.10508620228504098},\n",
       "  'Conservativity': {'YES': -0.28512694917688475, 'NO': 0.07670617818156557}},\n",
       " 'language=Logical_union_diff-max_model_size=8-max-expr-len=5.xlsx': {'Monotonicity': {'YES': -0.06034892430574146,\n",
       "   'NO': 0.10034557208609071},\n",
       "  'Conservativity': {'YES': -0.5147976699631789, 'NO': 0.14263732908965893}},\n",
       " 'language=Logical_xor_and-max_model_size=8-max-expr-len=5.xlsx': {'Monotonicity': {'YES': -0.09249808599339757,\n",
       "   'NO': 0.1189761005211296},\n",
       "  'Conservativity': {'YES': -0.4766315190740603, 'NO': 0.12221321001898554}},\n",
       " 'language=Logical_xor_not-max_model_size=8-max-expr-len=5.xlsx': {'Monotonicity': {'YES': -0.7733527614060651,\n",
       "   'NO': 0.22095793183030574},\n",
       "  'Conservativity': {'YES': -0.359164047119952, 'NO': 0.12606420196925747}},\n",
       " 'language=Logical_xor_only-max_model_size=8-max-expr-len=5.xlsx': {'Monotonicity': {'YES': -0.766083883051269,\n",
       "   'NO': 0.22743115278084564},\n",
       "  'Conservativity': {'YES': -0.34053625259263515, 'NO': 0.11745347600995981}},\n",
       " 'language=Logical_xor_or-max_model_size=8-max-expr-len=5 (מעודכן.xlsx': {'Monotonicity': {'YES': -0.18345124242929775,\n",
       "   'NO': 0.12234819498964666},\n",
       "  'Conservativity': {'YES': -0.4235760518586644, 'NO': 0.10948573972019598}},\n",
       " 'language=Logical_xor_or-max_model_size=8-max-expr-len=5.xlsx': {'Monotonicity': {'YES': -0.18345124242929775,\n",
       "   'NO': 0.12234819498964666},\n",
       "  'Conservativity': {'YES': -0.4235760518586644, 'NO': 0.10948573972019598}}}"
      ]
     },
     "execution_count": 132,
     "metadata": {},
     "output_type": "execute_result"
    }
   ],
   "source": [
    "table_2"
   ]
  },
  {
   "cell_type": "code",
   "execution_count": 134,
   "metadata": {},
   "outputs": [],
   "source": [
    "table_2_df = pd.DataFrame.from_dict(table_2)"
   ]
  },
  {
   "cell_type": "code",
   "execution_count": 137,
   "metadata": {},
   "outputs": [
    {
     "data": {
      "text/html": [
       "<div>\n",
       "<style scoped>\n",
       "    .dataframe tbody tr th:only-of-type {\n",
       "        vertical-align: middle;\n",
       "    }\n",
       "\n",
       "    .dataframe tbody tr th {\n",
       "        vertical-align: top;\n",
       "    }\n",
       "\n",
       "    .dataframe thead th {\n",
       "        text-align: right;\n",
       "    }\n",
       "</style>\n",
       "<table border=\"1\" class=\"dataframe\">\n",
       "  <thead>\n",
       "    <tr style=\"text-align: right;\">\n",
       "      <th></th>\n",
       "      <th>Monotonicity</th>\n",
       "      <th>Conservativity</th>\n",
       "    </tr>\n",
       "  </thead>\n",
       "  <tbody>\n",
       "    <tr>\n",
       "      <th>language=Logical-max_model_size=8-max-expr-len=5.xlsx</th>\n",
       "      <td>{'YES': -0.04692901527410482, 'NO': 0.07362516...</td>\n",
       "      <td>{'YES': -0.4798388378575405, 'NO': 0.114418845...</td>\n",
       "    </tr>\n",
       "    <tr>\n",
       "      <th>language=Logical_and_comp-max_model_size=8-max-expr-len=5.xlsx</th>\n",
       "      <td>{'YES': -0.048340334542799505, 'NO': 0.0974829...</td>\n",
       "      <td>{'YES': -0.9845383006035178, 'NO': 0.222475771...</td>\n",
       "    </tr>\n",
       "    <tr>\n",
       "      <th>language=Logical_and_comp_nocard-max_model_size=8-max-expr-len=5.xlsx</th>\n",
       "      <td>{'YES': -0.1688380033632932, 'NO': 0.759771015...</td>\n",
       "      <td>{'YES': -0.3174154463229918, 'NO': 0.264512871...</td>\n",
       "    </tr>\n",
       "    <tr>\n",
       "      <th>language=Logical_and_comp_subset-max_model_size=8-max-expr-len=5.xlsx</th>\n",
       "      <td>{'YES': -0.04458677605695835, 'NO': 0.08764048...</td>\n",
       "      <td>{'YES': -0.636037729394525, 'NO': 0.1736781991...</td>\n",
       "    </tr>\n",
       "    <tr>\n",
       "      <th>language=Logical_and_diff-max_model_size=8-max-expr-len=5.xlsx</th>\n",
       "      <td>{'YES': -0.028719079355289917, 'NO': 0.0572056...</td>\n",
       "      <td>{'YES': -1.0263082786139144, 'NO': 0.233561850...</td>\n",
       "    </tr>\n",
       "    <tr>\n",
       "      <th>language=Logical_comp-max_model_size=8-max-expr-len=5.xlsx</th>\n",
       "      <td>{'YES': -0.048807025977124774, 'NO': 0.0756221...</td>\n",
       "      <td>{'YES': -0.48595133849193145, 'NO': 0.11442297...</td>\n",
       "    </tr>\n",
       "    <tr>\n",
       "      <th>language=Logical_comp_nodiff-max_model_size=8-max-expr-len=5.xlsx</th>\n",
       "      <td>{'YES': -0.04122702754133695, 'NO': 0.07209097...</td>\n",
       "      <td>{'YES': -0.44340038592190223, 'NO': 0.10933912...</td>\n",
       "    </tr>\n",
       "    <tr>\n",
       "      <th>language=Logical_entail_comp-max_model_size=8-max-expr-len=5.xlsx</th>\n",
       "      <td>{'YES': -0.09591372368144135, 'NO': 0.13980281...</td>\n",
       "      <td>{'YES': -0.6095178297109792, 'NO': 0.115973122...</td>\n",
       "    </tr>\n",
       "    <tr>\n",
       "      <th>language=Logical_entail_diff-max_model_size=8-max-expr-len=5.xlsx</th>\n",
       "      <td>{'YES': -0.09741488456507277, 'NO': 0.13086457...</td>\n",
       "      <td>{'YES': -0.8245332978666884, 'NO': 0.153343082...</td>\n",
       "    </tr>\n",
       "    <tr>\n",
       "      <th>language=Logical_nand-max_model_size=8-max-expr-len=5 (version 1).xlsx</th>\n",
       "      <td>{'YES': -0.09161572633745158, 'NO': 0.11784116...</td>\n",
       "      <td>{'YES': -0.47526465016231473, 'NO': 0.12186273...</td>\n",
       "    </tr>\n",
       "    <tr>\n",
       "      <th>language=Logical_nand_set-max_model_size=8-max-expr-len=5.xlsx</th>\n",
       "      <td>{'YES': -0.0600032638958142, 'NO': 0.131197612...</td>\n",
       "      <td>{'YES': -0.5614037705358278, 'NO': 0.120604138...</td>\n",
       "    </tr>\n",
       "    <tr>\n",
       "      <th>language=Logical_nor-max_model_size=8-max-expr-len=5.xlsx</th>\n",
       "      <td>{'YES': -0.09249808599339757, 'NO': 0.11897610...</td>\n",
       "      <td>{'YES': -0.4766315190740603, 'NO': 0.122213210...</td>\n",
       "    </tr>\n",
       "    <tr>\n",
       "      <th>language=Logical_nor_only-max_model_size=8-max-expr-len=5.xlsx</th>\n",
       "      <td>{'YES': -0.09249808599339757, 'NO': 0.11897610...</td>\n",
       "      <td>{'YES': -0.4766315190740603, 'NO': 0.122213210...</td>\n",
       "    </tr>\n",
       "    <tr>\n",
       "      <th>language=Logical_nor_set-max_model_size=8-max-expr-len=5.xlsx</th>\n",
       "      <td>{'YES': -0.0697772003411882, 'NO': 0.134315872...</td>\n",
       "      <td>{'YES': -0.3710270596313763, 'NO': 0.109531924...</td>\n",
       "    </tr>\n",
       "    <tr>\n",
       "      <th>language=Logical_union_comp-max_model_size=8-max-expr-len=5.xlsx</th>\n",
       "      <td>{'YES': -0.055267974502517685, 'NO': 0.1051250...</td>\n",
       "      <td>{'YES': -0.3675682230992883, 'NO': 0.088458122...</td>\n",
       "    </tr>\n",
       "    <tr>\n",
       "      <th>language=Logical_union_comp_nocard-max_model_size=8-max-expr-len=5.xlsx</th>\n",
       "      <td>{'YES': -0.20205342453331857, 'NO': 0.58090359...</td>\n",
       "      <td>{'YES': -0.40366140500902475, 'NO': 0.25494404...</td>\n",
       "    </tr>\n",
       "    <tr>\n",
       "      <th>language=Logical_union_comp_nocard-max_model_size=8-max-expr-len=7.xlsx</th>\n",
       "      <td>{'YES': -0.6411621142321461, 'NO': 0.461636722...</td>\n",
       "      <td>{'YES': -0.9419460702500667, 'NO': 0.215301958...</td>\n",
       "    </tr>\n",
       "    <tr>\n",
       "      <th>language=Logical_union_comp_subset-max_model_size=8-max-expr-len=5.xlsx</th>\n",
       "      <td>{'YES': -0.05862703916954846, 'NO': 0.10508620...</td>\n",
       "      <td>{'YES': -0.28512694917688475, 'NO': 0.07670617...</td>\n",
       "    </tr>\n",
       "    <tr>\n",
       "      <th>language=Logical_union_diff-max_model_size=8-max-expr-len=5.xlsx</th>\n",
       "      <td>{'YES': -0.06034892430574146, 'NO': 0.10034557...</td>\n",
       "      <td>{'YES': -0.5147976699631789, 'NO': 0.142637329...</td>\n",
       "    </tr>\n",
       "    <tr>\n",
       "      <th>language=Logical_xor_and-max_model_size=8-max-expr-len=5.xlsx</th>\n",
       "      <td>{'YES': -0.09249808599339757, 'NO': 0.11897610...</td>\n",
       "      <td>{'YES': -0.4766315190740603, 'NO': 0.122213210...</td>\n",
       "    </tr>\n",
       "    <tr>\n",
       "      <th>language=Logical_xor_not-max_model_size=8-max-expr-len=5.xlsx</th>\n",
       "      <td>{'YES': -0.7733527614060651, 'NO': 0.220957931...</td>\n",
       "      <td>{'YES': -0.359164047119952, 'NO': 0.1260642019...</td>\n",
       "    </tr>\n",
       "    <tr>\n",
       "      <th>language=Logical_xor_only-max_model_size=8-max-expr-len=5.xlsx</th>\n",
       "      <td>{'YES': -0.766083883051269, 'NO': 0.2274311527...</td>\n",
       "      <td>{'YES': -0.34053625259263515, 'NO': 0.11745347...</td>\n",
       "    </tr>\n",
       "    <tr>\n",
       "      <th>language=Logical_xor_or-max_model_size=8-max-expr-len=5 (מעודכן.xlsx</th>\n",
       "      <td>{'YES': -0.18345124242929775, 'NO': 0.12234819...</td>\n",
       "      <td>{'YES': -0.4235760518586644, 'NO': 0.109485739...</td>\n",
       "    </tr>\n",
       "    <tr>\n",
       "      <th>language=Logical_xor_or-max_model_size=8-max-expr-len=5.xlsx</th>\n",
       "      <td>{'YES': -0.18345124242929775, 'NO': 0.12234819...</td>\n",
       "      <td>{'YES': -0.4235760518586644, 'NO': 0.109485739...</td>\n",
       "    </tr>\n",
       "  </tbody>\n",
       "</table>\n",
       "</div>"
      ],
      "text/plain": [
       "                                                                                         Monotonicity  \\\n",
       "language=Logical-max_model_size=8-max-expr-len=...  {'YES': -0.04692901527410482, 'NO': 0.07362516...   \n",
       "language=Logical_and_comp-max_model_size=8-max-...  {'YES': -0.048340334542799505, 'NO': 0.0974829...   \n",
       "language=Logical_and_comp_nocard-max_model_size...  {'YES': -0.1688380033632932, 'NO': 0.759771015...   \n",
       "language=Logical_and_comp_subset-max_model_size...  {'YES': -0.04458677605695835, 'NO': 0.08764048...   \n",
       "language=Logical_and_diff-max_model_size=8-max-...  {'YES': -0.028719079355289917, 'NO': 0.0572056...   \n",
       "language=Logical_comp-max_model_size=8-max-expr...  {'YES': -0.048807025977124774, 'NO': 0.0756221...   \n",
       "language=Logical_comp_nodiff-max_model_size=8-m...  {'YES': -0.04122702754133695, 'NO': 0.07209097...   \n",
       "language=Logical_entail_comp-max_model_size=8-m...  {'YES': -0.09591372368144135, 'NO': 0.13980281...   \n",
       "language=Logical_entail_diff-max_model_size=8-m...  {'YES': -0.09741488456507277, 'NO': 0.13086457...   \n",
       "language=Logical_nand-max_model_size=8-max-expr...  {'YES': -0.09161572633745158, 'NO': 0.11784116...   \n",
       "language=Logical_nand_set-max_model_size=8-max-...  {'YES': -0.0600032638958142, 'NO': 0.131197612...   \n",
       "language=Logical_nor-max_model_size=8-max-expr-...  {'YES': -0.09249808599339757, 'NO': 0.11897610...   \n",
       "language=Logical_nor_only-max_model_size=8-max-...  {'YES': -0.09249808599339757, 'NO': 0.11897610...   \n",
       "language=Logical_nor_set-max_model_size=8-max-e...  {'YES': -0.0697772003411882, 'NO': 0.134315872...   \n",
       "language=Logical_union_comp-max_model_size=8-ma...  {'YES': -0.055267974502517685, 'NO': 0.1051250...   \n",
       "language=Logical_union_comp_nocard-max_model_si...  {'YES': -0.20205342453331857, 'NO': 0.58090359...   \n",
       "language=Logical_union_comp_nocard-max_model_si...  {'YES': -0.6411621142321461, 'NO': 0.461636722...   \n",
       "language=Logical_union_comp_subset-max_model_si...  {'YES': -0.05862703916954846, 'NO': 0.10508620...   \n",
       "language=Logical_union_diff-max_model_size=8-ma...  {'YES': -0.06034892430574146, 'NO': 0.10034557...   \n",
       "language=Logical_xor_and-max_model_size=8-max-e...  {'YES': -0.09249808599339757, 'NO': 0.11897610...   \n",
       "language=Logical_xor_not-max_model_size=8-max-e...  {'YES': -0.7733527614060651, 'NO': 0.220957931...   \n",
       "language=Logical_xor_only-max_model_size=8-max-...  {'YES': -0.766083883051269, 'NO': 0.2274311527...   \n",
       "language=Logical_xor_or-max_model_size=8-max-ex...  {'YES': -0.18345124242929775, 'NO': 0.12234819...   \n",
       "language=Logical_xor_or-max_model_size=8-max-ex...  {'YES': -0.18345124242929775, 'NO': 0.12234819...   \n",
       "\n",
       "                                                                                       Conservativity  \n",
       "language=Logical-max_model_size=8-max-expr-len=...  {'YES': -0.4798388378575405, 'NO': 0.114418845...  \n",
       "language=Logical_and_comp-max_model_size=8-max-...  {'YES': -0.9845383006035178, 'NO': 0.222475771...  \n",
       "language=Logical_and_comp_nocard-max_model_size...  {'YES': -0.3174154463229918, 'NO': 0.264512871...  \n",
       "language=Logical_and_comp_subset-max_model_size...  {'YES': -0.636037729394525, 'NO': 0.1736781991...  \n",
       "language=Logical_and_diff-max_model_size=8-max-...  {'YES': -1.0263082786139144, 'NO': 0.233561850...  \n",
       "language=Logical_comp-max_model_size=8-max-expr...  {'YES': -0.48595133849193145, 'NO': 0.11442297...  \n",
       "language=Logical_comp_nodiff-max_model_size=8-m...  {'YES': -0.44340038592190223, 'NO': 0.10933912...  \n",
       "language=Logical_entail_comp-max_model_size=8-m...  {'YES': -0.6095178297109792, 'NO': 0.115973122...  \n",
       "language=Logical_entail_diff-max_model_size=8-m...  {'YES': -0.8245332978666884, 'NO': 0.153343082...  \n",
       "language=Logical_nand-max_model_size=8-max-expr...  {'YES': -0.47526465016231473, 'NO': 0.12186273...  \n",
       "language=Logical_nand_set-max_model_size=8-max-...  {'YES': -0.5614037705358278, 'NO': 0.120604138...  \n",
       "language=Logical_nor-max_model_size=8-max-expr-...  {'YES': -0.4766315190740603, 'NO': 0.122213210...  \n",
       "language=Logical_nor_only-max_model_size=8-max-...  {'YES': -0.4766315190740603, 'NO': 0.122213210...  \n",
       "language=Logical_nor_set-max_model_size=8-max-e...  {'YES': -0.3710270596313763, 'NO': 0.109531924...  \n",
       "language=Logical_union_comp-max_model_size=8-ma...  {'YES': -0.3675682230992883, 'NO': 0.088458122...  \n",
       "language=Logical_union_comp_nocard-max_model_si...  {'YES': -0.40366140500902475, 'NO': 0.25494404...  \n",
       "language=Logical_union_comp_nocard-max_model_si...  {'YES': -0.9419460702500667, 'NO': 0.215301958...  \n",
       "language=Logical_union_comp_subset-max_model_si...  {'YES': -0.28512694917688475, 'NO': 0.07670617...  \n",
       "language=Logical_union_diff-max_model_size=8-ma...  {'YES': -0.5147976699631789, 'NO': 0.142637329...  \n",
       "language=Logical_xor_and-max_model_size=8-max-e...  {'YES': -0.4766315190740603, 'NO': 0.122213210...  \n",
       "language=Logical_xor_not-max_model_size=8-max-e...  {'YES': -0.359164047119952, 'NO': 0.1260642019...  \n",
       "language=Logical_xor_only-max_model_size=8-max-...  {'YES': -0.34053625259263515, 'NO': 0.11745347...  \n",
       "language=Logical_xor_or-max_model_size=8-max-ex...  {'YES': -0.4235760518586644, 'NO': 0.109485739...  \n",
       "language=Logical_xor_or-max_model_size=8-max-ex...  {'YES': -0.4235760518586644, 'NO': 0.109485739...  "
      ]
     },
     "execution_count": 137,
     "metadata": {},
     "output_type": "execute_result"
    }
   ],
   "source": [
    "table_2_df.transpose()"
   ]
  },
  {
   "cell_type": "code",
   "execution_count": 164,
   "metadata": {},
   "outputs": [],
   "source": [
    "df_mi = pd.MultiIndex.from_product(\n",
    "((\"Monotonicity\",\"Conservativity\"),\n",
    " (\"YES\",\"NO\",\"diff\")))"
   ]
  },
  {
   "cell_type": "code",
   "execution_count": 165,
   "metadata": {},
   "outputs": [],
   "source": [
    "table_2_try = {}\n",
    "\n",
    "for lang, df in dfs.items():\n",
    "    for u in universals:\n",
    "        avg_ML_forMon = df[df.flo_mon == 1].z_ML.mean()\n",
    "        avg_ML_forNoMon = df[df.flo_mon == 0].z_ML.mean()\n",
    "        avg_ML_forCon = df[df.flo_con == 1].z_ML.mean()\n",
    "        avg_ML_forNoCon = df[df.flo_con == 0].z_ML.mean()\n",
    "        table_2_try[lang] = {\"a\":avg_ML_forMon,\"b\":avg_ML_forNoMon,\"ba\":avg_ML_forNoMon-avg_ML_forMon,\"c\":avg_ML_forCon,\"d\":avg_ML_forNoCon,\"dc\":avg_ML_forNoCon-avg_ML_forCon}"
   ]
  },
  {
   "cell_type": "code",
   "execution_count": 166,
   "metadata": {},
   "outputs": [],
   "source": [
    "table_2_try_df = pd.DataFrame.from_dict(table_2_try).transpose()"
   ]
  },
  {
   "cell_type": "code",
   "execution_count": 167,
   "metadata": {},
   "outputs": [],
   "source": [
    "table_2_try_df.columns = df_mi"
   ]
  },
  {
   "cell_type": "code",
   "execution_count": 168,
   "metadata": {},
   "outputs": [
    {
     "data": {
      "text/html": [
       "<div>\n",
       "<style scoped>\n",
       "    .dataframe tbody tr th:only-of-type {\n",
       "        vertical-align: middle;\n",
       "    }\n",
       "\n",
       "    .dataframe tbody tr th {\n",
       "        vertical-align: top;\n",
       "    }\n",
       "\n",
       "    .dataframe thead tr th {\n",
       "        text-align: left;\n",
       "    }\n",
       "</style>\n",
       "<table border=\"1\" class=\"dataframe\">\n",
       "  <thead>\n",
       "    <tr>\n",
       "      <th></th>\n",
       "      <th colspan=\"3\" halign=\"left\">Monotonicity</th>\n",
       "      <th colspan=\"3\" halign=\"left\">Conservativity</th>\n",
       "    </tr>\n",
       "    <tr>\n",
       "      <th></th>\n",
       "      <th>YES</th>\n",
       "      <th>NO</th>\n",
       "      <th>diff</th>\n",
       "      <th>YES</th>\n",
       "      <th>NO</th>\n",
       "      <th>diff</th>\n",
       "    </tr>\n",
       "  </thead>\n",
       "  <tbody>\n",
       "    <tr>\n",
       "      <th>language=Logical-max_model_size=8-max-expr-len=5.xlsx</th>\n",
       "      <td>-0.046929</td>\n",
       "      <td>0.073625</td>\n",
       "      <td>0.120554</td>\n",
       "      <td>-0.479839</td>\n",
       "      <td>0.114419</td>\n",
       "      <td>0.594258</td>\n",
       "    </tr>\n",
       "    <tr>\n",
       "      <th>language=Logical_and_comp-max_model_size=8-max-expr-len=5.xlsx</th>\n",
       "      <td>-0.048340</td>\n",
       "      <td>0.097483</td>\n",
       "      <td>0.145823</td>\n",
       "      <td>-0.984538</td>\n",
       "      <td>0.222476</td>\n",
       "      <td>1.207014</td>\n",
       "    </tr>\n",
       "    <tr>\n",
       "      <th>language=Logical_and_comp_nocard-max_model_size=8-max-expr-len=5.xlsx</th>\n",
       "      <td>-0.168838</td>\n",
       "      <td>0.759771</td>\n",
       "      <td>0.928609</td>\n",
       "      <td>-0.317415</td>\n",
       "      <td>0.264513</td>\n",
       "      <td>0.581928</td>\n",
       "    </tr>\n",
       "    <tr>\n",
       "      <th>language=Logical_and_comp_subset-max_model_size=8-max-expr-len=5.xlsx</th>\n",
       "      <td>-0.044587</td>\n",
       "      <td>0.087640</td>\n",
       "      <td>0.132227</td>\n",
       "      <td>-0.636038</td>\n",
       "      <td>0.173678</td>\n",
       "      <td>0.809716</td>\n",
       "    </tr>\n",
       "    <tr>\n",
       "      <th>language=Logical_and_diff-max_model_size=8-max-expr-len=5.xlsx</th>\n",
       "      <td>-0.028719</td>\n",
       "      <td>0.057206</td>\n",
       "      <td>0.085925</td>\n",
       "      <td>-1.026308</td>\n",
       "      <td>0.233562</td>\n",
       "      <td>1.259870</td>\n",
       "    </tr>\n",
       "    <tr>\n",
       "      <th>language=Logical_comp-max_model_size=8-max-expr-len=5.xlsx</th>\n",
       "      <td>-0.048807</td>\n",
       "      <td>0.075622</td>\n",
       "      <td>0.124429</td>\n",
       "      <td>-0.485951</td>\n",
       "      <td>0.114423</td>\n",
       "      <td>0.600374</td>\n",
       "    </tr>\n",
       "    <tr>\n",
       "      <th>language=Logical_comp_nodiff-max_model_size=8-max-expr-len=5.xlsx</th>\n",
       "      <td>-0.041227</td>\n",
       "      <td>0.072091</td>\n",
       "      <td>0.113318</td>\n",
       "      <td>-0.443400</td>\n",
       "      <td>0.109339</td>\n",
       "      <td>0.552740</td>\n",
       "    </tr>\n",
       "    <tr>\n",
       "      <th>language=Logical_entail_comp-max_model_size=8-max-expr-len=5.xlsx</th>\n",
       "      <td>-0.095914</td>\n",
       "      <td>0.139803</td>\n",
       "      <td>0.235717</td>\n",
       "      <td>-0.609518</td>\n",
       "      <td>0.115973</td>\n",
       "      <td>0.725491</td>\n",
       "    </tr>\n",
       "    <tr>\n",
       "      <th>language=Logical_entail_diff-max_model_size=8-max-expr-len=5.xlsx</th>\n",
       "      <td>-0.097415</td>\n",
       "      <td>0.130865</td>\n",
       "      <td>0.228279</td>\n",
       "      <td>-0.824533</td>\n",
       "      <td>0.153343</td>\n",
       "      <td>0.977876</td>\n",
       "    </tr>\n",
       "    <tr>\n",
       "      <th>language=Logical_nand-max_model_size=8-max-expr-len=5 (version 1).xlsx</th>\n",
       "      <td>-0.091616</td>\n",
       "      <td>0.117841</td>\n",
       "      <td>0.209457</td>\n",
       "      <td>-0.475265</td>\n",
       "      <td>0.121863</td>\n",
       "      <td>0.597127</td>\n",
       "    </tr>\n",
       "    <tr>\n",
       "      <th>language=Logical_nand_set-max_model_size=8-max-expr-len=5.xlsx</th>\n",
       "      <td>-0.060003</td>\n",
       "      <td>0.131198</td>\n",
       "      <td>0.191201</td>\n",
       "      <td>-0.561404</td>\n",
       "      <td>0.120604</td>\n",
       "      <td>0.682008</td>\n",
       "    </tr>\n",
       "    <tr>\n",
       "      <th>language=Logical_nor-max_model_size=8-max-expr-len=5.xlsx</th>\n",
       "      <td>-0.092498</td>\n",
       "      <td>0.118976</td>\n",
       "      <td>0.211474</td>\n",
       "      <td>-0.476632</td>\n",
       "      <td>0.122213</td>\n",
       "      <td>0.598845</td>\n",
       "    </tr>\n",
       "    <tr>\n",
       "      <th>language=Logical_nor_only-max_model_size=8-max-expr-len=5.xlsx</th>\n",
       "      <td>-0.092498</td>\n",
       "      <td>0.118976</td>\n",
       "      <td>0.211474</td>\n",
       "      <td>-0.476632</td>\n",
       "      <td>0.122213</td>\n",
       "      <td>0.598845</td>\n",
       "    </tr>\n",
       "    <tr>\n",
       "      <th>language=Logical_nor_set-max_model_size=8-max-expr-len=5.xlsx</th>\n",
       "      <td>-0.069777</td>\n",
       "      <td>0.134316</td>\n",
       "      <td>0.204093</td>\n",
       "      <td>-0.371027</td>\n",
       "      <td>0.109532</td>\n",
       "      <td>0.480559</td>\n",
       "    </tr>\n",
       "    <tr>\n",
       "      <th>language=Logical_union_comp-max_model_size=8-max-expr-len=5.xlsx</th>\n",
       "      <td>-0.055268</td>\n",
       "      <td>0.105125</td>\n",
       "      <td>0.160393</td>\n",
       "      <td>-0.367568</td>\n",
       "      <td>0.088458</td>\n",
       "      <td>0.456026</td>\n",
       "    </tr>\n",
       "    <tr>\n",
       "      <th>language=Logical_union_comp_nocard-max_model_size=8-max-expr-len=5.xlsx</th>\n",
       "      <td>-0.202053</td>\n",
       "      <td>0.580904</td>\n",
       "      <td>0.782957</td>\n",
       "      <td>-0.403661</td>\n",
       "      <td>0.254944</td>\n",
       "      <td>0.658605</td>\n",
       "    </tr>\n",
       "    <tr>\n",
       "      <th>language=Logical_union_comp_nocard-max_model_size=8-max-expr-len=7.xlsx</th>\n",
       "      <td>-0.641162</td>\n",
       "      <td>0.461637</td>\n",
       "      <td>1.102799</td>\n",
       "      <td>-0.941946</td>\n",
       "      <td>0.215302</td>\n",
       "      <td>1.157248</td>\n",
       "    </tr>\n",
       "    <tr>\n",
       "      <th>language=Logical_union_comp_subset-max_model_size=8-max-expr-len=5.xlsx</th>\n",
       "      <td>-0.058627</td>\n",
       "      <td>0.105086</td>\n",
       "      <td>0.163713</td>\n",
       "      <td>-0.285127</td>\n",
       "      <td>0.076706</td>\n",
       "      <td>0.361833</td>\n",
       "    </tr>\n",
       "    <tr>\n",
       "      <th>language=Logical_union_diff-max_model_size=8-max-expr-len=5.xlsx</th>\n",
       "      <td>-0.060349</td>\n",
       "      <td>0.100346</td>\n",
       "      <td>0.160694</td>\n",
       "      <td>-0.514798</td>\n",
       "      <td>0.142637</td>\n",
       "      <td>0.657435</td>\n",
       "    </tr>\n",
       "    <tr>\n",
       "      <th>language=Logical_xor_and-max_model_size=8-max-expr-len=5.xlsx</th>\n",
       "      <td>-0.092498</td>\n",
       "      <td>0.118976</td>\n",
       "      <td>0.211474</td>\n",
       "      <td>-0.476632</td>\n",
       "      <td>0.122213</td>\n",
       "      <td>0.598845</td>\n",
       "    </tr>\n",
       "    <tr>\n",
       "      <th>language=Logical_xor_not-max_model_size=8-max-expr-len=5.xlsx</th>\n",
       "      <td>-0.773353</td>\n",
       "      <td>0.220958</td>\n",
       "      <td>0.994311</td>\n",
       "      <td>-0.359164</td>\n",
       "      <td>0.126064</td>\n",
       "      <td>0.485228</td>\n",
       "    </tr>\n",
       "    <tr>\n",
       "      <th>language=Logical_xor_only-max_model_size=8-max-expr-len=5.xlsx</th>\n",
       "      <td>-0.766084</td>\n",
       "      <td>0.227431</td>\n",
       "      <td>0.993515</td>\n",
       "      <td>-0.340536</td>\n",
       "      <td>0.117453</td>\n",
       "      <td>0.457990</td>\n",
       "    </tr>\n",
       "    <tr>\n",
       "      <th>language=Logical_xor_or-max_model_size=8-max-expr-len=5 (מעודכן.xlsx</th>\n",
       "      <td>-0.183451</td>\n",
       "      <td>0.122348</td>\n",
       "      <td>0.305799</td>\n",
       "      <td>-0.423576</td>\n",
       "      <td>0.109486</td>\n",
       "      <td>0.533062</td>\n",
       "    </tr>\n",
       "    <tr>\n",
       "      <th>language=Logical_xor_or-max_model_size=8-max-expr-len=5.xlsx</th>\n",
       "      <td>-0.183451</td>\n",
       "      <td>0.122348</td>\n",
       "      <td>0.305799</td>\n",
       "      <td>-0.423576</td>\n",
       "      <td>0.109486</td>\n",
       "      <td>0.533062</td>\n",
       "    </tr>\n",
       "  </tbody>\n",
       "</table>\n",
       "</div>"
      ],
      "text/plain": [
       "                                                   Monotonicity            \\\n",
       "                                                            YES        NO   \n",
       "language=Logical-max_model_size=8-max-expr-len=...    -0.046929  0.073625   \n",
       "language=Logical_and_comp-max_model_size=8-max-...    -0.048340  0.097483   \n",
       "language=Logical_and_comp_nocard-max_model_size...    -0.168838  0.759771   \n",
       "language=Logical_and_comp_subset-max_model_size...    -0.044587  0.087640   \n",
       "language=Logical_and_diff-max_model_size=8-max-...    -0.028719  0.057206   \n",
       "language=Logical_comp-max_model_size=8-max-expr...    -0.048807  0.075622   \n",
       "language=Logical_comp_nodiff-max_model_size=8-m...    -0.041227  0.072091   \n",
       "language=Logical_entail_comp-max_model_size=8-m...    -0.095914  0.139803   \n",
       "language=Logical_entail_diff-max_model_size=8-m...    -0.097415  0.130865   \n",
       "language=Logical_nand-max_model_size=8-max-expr...    -0.091616  0.117841   \n",
       "language=Logical_nand_set-max_model_size=8-max-...    -0.060003  0.131198   \n",
       "language=Logical_nor-max_model_size=8-max-expr-...    -0.092498  0.118976   \n",
       "language=Logical_nor_only-max_model_size=8-max-...    -0.092498  0.118976   \n",
       "language=Logical_nor_set-max_model_size=8-max-e...    -0.069777  0.134316   \n",
       "language=Logical_union_comp-max_model_size=8-ma...    -0.055268  0.105125   \n",
       "language=Logical_union_comp_nocard-max_model_si...    -0.202053  0.580904   \n",
       "language=Logical_union_comp_nocard-max_model_si...    -0.641162  0.461637   \n",
       "language=Logical_union_comp_subset-max_model_si...    -0.058627  0.105086   \n",
       "language=Logical_union_diff-max_model_size=8-ma...    -0.060349  0.100346   \n",
       "language=Logical_xor_and-max_model_size=8-max-e...    -0.092498  0.118976   \n",
       "language=Logical_xor_not-max_model_size=8-max-e...    -0.773353  0.220958   \n",
       "language=Logical_xor_only-max_model_size=8-max-...    -0.766084  0.227431   \n",
       "language=Logical_xor_or-max_model_size=8-max-ex...    -0.183451  0.122348   \n",
       "language=Logical_xor_or-max_model_size=8-max-ex...    -0.183451  0.122348   \n",
       "\n",
       "                                                             Conservativity  \\\n",
       "                                                        diff            YES   \n",
       "language=Logical-max_model_size=8-max-expr-len=...  0.120554      -0.479839   \n",
       "language=Logical_and_comp-max_model_size=8-max-...  0.145823      -0.984538   \n",
       "language=Logical_and_comp_nocard-max_model_size...  0.928609      -0.317415   \n",
       "language=Logical_and_comp_subset-max_model_size...  0.132227      -0.636038   \n",
       "language=Logical_and_diff-max_model_size=8-max-...  0.085925      -1.026308   \n",
       "language=Logical_comp-max_model_size=8-max-expr...  0.124429      -0.485951   \n",
       "language=Logical_comp_nodiff-max_model_size=8-m...  0.113318      -0.443400   \n",
       "language=Logical_entail_comp-max_model_size=8-m...  0.235717      -0.609518   \n",
       "language=Logical_entail_diff-max_model_size=8-m...  0.228279      -0.824533   \n",
       "language=Logical_nand-max_model_size=8-max-expr...  0.209457      -0.475265   \n",
       "language=Logical_nand_set-max_model_size=8-max-...  0.191201      -0.561404   \n",
       "language=Logical_nor-max_model_size=8-max-expr-...  0.211474      -0.476632   \n",
       "language=Logical_nor_only-max_model_size=8-max-...  0.211474      -0.476632   \n",
       "language=Logical_nor_set-max_model_size=8-max-e...  0.204093      -0.371027   \n",
       "language=Logical_union_comp-max_model_size=8-ma...  0.160393      -0.367568   \n",
       "language=Logical_union_comp_nocard-max_model_si...  0.782957      -0.403661   \n",
       "language=Logical_union_comp_nocard-max_model_si...  1.102799      -0.941946   \n",
       "language=Logical_union_comp_subset-max_model_si...  0.163713      -0.285127   \n",
       "language=Logical_union_diff-max_model_size=8-ma...  0.160694      -0.514798   \n",
       "language=Logical_xor_and-max_model_size=8-max-e...  0.211474      -0.476632   \n",
       "language=Logical_xor_not-max_model_size=8-max-e...  0.994311      -0.359164   \n",
       "language=Logical_xor_only-max_model_size=8-max-...  0.993515      -0.340536   \n",
       "language=Logical_xor_or-max_model_size=8-max-ex...  0.305799      -0.423576   \n",
       "language=Logical_xor_or-max_model_size=8-max-ex...  0.305799      -0.423576   \n",
       "\n",
       "                                                                        \n",
       "                                                          NO      diff  \n",
       "language=Logical-max_model_size=8-max-expr-len=...  0.114419  0.594258  \n",
       "language=Logical_and_comp-max_model_size=8-max-...  0.222476  1.207014  \n",
       "language=Logical_and_comp_nocard-max_model_size...  0.264513  0.581928  \n",
       "language=Logical_and_comp_subset-max_model_size...  0.173678  0.809716  \n",
       "language=Logical_and_diff-max_model_size=8-max-...  0.233562  1.259870  \n",
       "language=Logical_comp-max_model_size=8-max-expr...  0.114423  0.600374  \n",
       "language=Logical_comp_nodiff-max_model_size=8-m...  0.109339  0.552740  \n",
       "language=Logical_entail_comp-max_model_size=8-m...  0.115973  0.725491  \n",
       "language=Logical_entail_diff-max_model_size=8-m...  0.153343  0.977876  \n",
       "language=Logical_nand-max_model_size=8-max-expr...  0.121863  0.597127  \n",
       "language=Logical_nand_set-max_model_size=8-max-...  0.120604  0.682008  \n",
       "language=Logical_nor-max_model_size=8-max-expr-...  0.122213  0.598845  \n",
       "language=Logical_nor_only-max_model_size=8-max-...  0.122213  0.598845  \n",
       "language=Logical_nor_set-max_model_size=8-max-e...  0.109532  0.480559  \n",
       "language=Logical_union_comp-max_model_size=8-ma...  0.088458  0.456026  \n",
       "language=Logical_union_comp_nocard-max_model_si...  0.254944  0.658605  \n",
       "language=Logical_union_comp_nocard-max_model_si...  0.215302  1.157248  \n",
       "language=Logical_union_comp_subset-max_model_si...  0.076706  0.361833  \n",
       "language=Logical_union_diff-max_model_size=8-ma...  0.142637  0.657435  \n",
       "language=Logical_xor_and-max_model_size=8-max-e...  0.122213  0.598845  \n",
       "language=Logical_xor_not-max_model_size=8-max-e...  0.126064  0.485228  \n",
       "language=Logical_xor_only-max_model_size=8-max-...  0.117453  0.457990  \n",
       "language=Logical_xor_or-max_model_size=8-max-ex...  0.109486  0.533062  \n",
       "language=Logical_xor_or-max_model_size=8-max-ex...  0.109486  0.533062  "
      ]
     },
     "execution_count": 168,
     "metadata": {},
     "output_type": "execute_result"
    }
   ],
   "source": [
    "table_2_try_df"
   ]
  },
  {
   "cell_type": "code",
   "execution_count": 149,
   "metadata": {},
   "outputs": [],
   "source": [
    "table_2_df = table_2_try_df"
   ]
  },
  {
   "cell_type": "code",
   "execution_count": 200,
   "metadata": {},
   "outputs": [],
   "source": [
    "table_2_df[(\"Monotonicity\",\"diff\")] = table_2_df[(\"Monotonicity\",\"NO\")]-table_2_df[(\"Monotonicity\",\"YES\")]"
   ]
  },
  {
   "cell_type": "code",
   "execution_count": 201,
   "metadata": {},
   "outputs": [],
   "source": [
    "table_2_df[(\"Consevativity\",\"diff\")] = table_2_df[(\"Consevativity\",\"NO\")]-table_2_df[(\"Consevativity\",\"YES\")]"
   ]
  },
  {
   "cell_type": "code",
   "execution_count": 202,
   "metadata": {},
   "outputs": [
    {
     "data": {
      "text/html": [
       "<div>\n",
       "<style scoped>\n",
       "    .dataframe tbody tr th:only-of-type {\n",
       "        vertical-align: middle;\n",
       "    }\n",
       "\n",
       "    .dataframe tbody tr th {\n",
       "        vertical-align: top;\n",
       "    }\n",
       "\n",
       "    .dataframe thead tr th {\n",
       "        text-align: left;\n",
       "    }\n",
       "</style>\n",
       "<table border=\"1\" class=\"dataframe\">\n",
       "  <thead>\n",
       "    <tr>\n",
       "      <th></th>\n",
       "      <th colspan=\"2\" halign=\"left\">Monotonicity</th>\n",
       "      <th colspan=\"2\" halign=\"left\">Consevativity</th>\n",
       "      <th>Monotonicity</th>\n",
       "      <th>Consevativity</th>\n",
       "    </tr>\n",
       "    <tr>\n",
       "      <th></th>\n",
       "      <th>YES</th>\n",
       "      <th>NO</th>\n",
       "      <th>YES</th>\n",
       "      <th>NO</th>\n",
       "      <th>diff</th>\n",
       "      <th>diff</th>\n",
       "    </tr>\n",
       "  </thead>\n",
       "  <tbody>\n",
       "    <tr>\n",
       "      <th>language=Logical-max_model_size=8-max-expr-len=5.xlsx</th>\n",
       "      <td>-0.046929</td>\n",
       "      <td>0.073625</td>\n",
       "      <td>-0.479839</td>\n",
       "      <td>0.114419</td>\n",
       "      <td>0.120554</td>\n",
       "      <td>0.594258</td>\n",
       "    </tr>\n",
       "    <tr>\n",
       "      <th>language=Logical_and_comp-max_model_size=8-max-expr-len=5.xlsx</th>\n",
       "      <td>-0.048340</td>\n",
       "      <td>0.097483</td>\n",
       "      <td>-0.984538</td>\n",
       "      <td>0.222476</td>\n",
       "      <td>0.145823</td>\n",
       "      <td>1.207014</td>\n",
       "    </tr>\n",
       "    <tr>\n",
       "      <th>language=Logical_and_comp_nocard-max_model_size=8-max-expr-len=5.xlsx</th>\n",
       "      <td>-0.168838</td>\n",
       "      <td>0.759771</td>\n",
       "      <td>-0.317415</td>\n",
       "      <td>0.264513</td>\n",
       "      <td>0.928609</td>\n",
       "      <td>0.581928</td>\n",
       "    </tr>\n",
       "    <tr>\n",
       "      <th>language=Logical_and_comp_subset-max_model_size=8-max-expr-len=5.xlsx</th>\n",
       "      <td>-0.044587</td>\n",
       "      <td>0.087640</td>\n",
       "      <td>-0.636038</td>\n",
       "      <td>0.173678</td>\n",
       "      <td>0.132227</td>\n",
       "      <td>0.809716</td>\n",
       "    </tr>\n",
       "    <tr>\n",
       "      <th>language=Logical_and_diff-max_model_size=8-max-expr-len=5.xlsx</th>\n",
       "      <td>-0.028719</td>\n",
       "      <td>0.057206</td>\n",
       "      <td>-1.026308</td>\n",
       "      <td>0.233562</td>\n",
       "      <td>0.085925</td>\n",
       "      <td>1.259870</td>\n",
       "    </tr>\n",
       "    <tr>\n",
       "      <th>language=Logical_comp-max_model_size=8-max-expr-len=5.xlsx</th>\n",
       "      <td>-0.048807</td>\n",
       "      <td>0.075622</td>\n",
       "      <td>-0.485951</td>\n",
       "      <td>0.114423</td>\n",
       "      <td>0.124429</td>\n",
       "      <td>0.600374</td>\n",
       "    </tr>\n",
       "    <tr>\n",
       "      <th>language=Logical_comp_nodiff-max_model_size=8-max-expr-len=5.xlsx</th>\n",
       "      <td>-0.041227</td>\n",
       "      <td>0.072091</td>\n",
       "      <td>-0.443400</td>\n",
       "      <td>0.109339</td>\n",
       "      <td>0.113318</td>\n",
       "      <td>0.552740</td>\n",
       "    </tr>\n",
       "    <tr>\n",
       "      <th>language=Logical_entail_comp-max_model_size=8-max-expr-len=5.xlsx</th>\n",
       "      <td>-0.095914</td>\n",
       "      <td>0.139803</td>\n",
       "      <td>-0.609518</td>\n",
       "      <td>0.115973</td>\n",
       "      <td>0.235717</td>\n",
       "      <td>0.725491</td>\n",
       "    </tr>\n",
       "    <tr>\n",
       "      <th>language=Logical_entail_diff-max_model_size=8-max-expr-len=5.xlsx</th>\n",
       "      <td>-0.097415</td>\n",
       "      <td>0.130865</td>\n",
       "      <td>-0.824533</td>\n",
       "      <td>0.153343</td>\n",
       "      <td>0.228279</td>\n",
       "      <td>0.977876</td>\n",
       "    </tr>\n",
       "    <tr>\n",
       "      <th>language=Logical_nand-max_model_size=8-max-expr-len=5 (version 1).xlsx</th>\n",
       "      <td>-0.091616</td>\n",
       "      <td>0.117841</td>\n",
       "      <td>-0.475265</td>\n",
       "      <td>0.121863</td>\n",
       "      <td>0.209457</td>\n",
       "      <td>0.597127</td>\n",
       "    </tr>\n",
       "    <tr>\n",
       "      <th>language=Logical_nand_set-max_model_size=8-max-expr-len=5.xlsx</th>\n",
       "      <td>-0.060003</td>\n",
       "      <td>0.131198</td>\n",
       "      <td>-0.561404</td>\n",
       "      <td>0.120604</td>\n",
       "      <td>0.191201</td>\n",
       "      <td>0.682008</td>\n",
       "    </tr>\n",
       "    <tr>\n",
       "      <th>language=Logical_nor-max_model_size=8-max-expr-len=5.xlsx</th>\n",
       "      <td>-0.092498</td>\n",
       "      <td>0.118976</td>\n",
       "      <td>-0.476632</td>\n",
       "      <td>0.122213</td>\n",
       "      <td>0.211474</td>\n",
       "      <td>0.598845</td>\n",
       "    </tr>\n",
       "    <tr>\n",
       "      <th>language=Logical_nor_only-max_model_size=8-max-expr-len=5.xlsx</th>\n",
       "      <td>-0.092498</td>\n",
       "      <td>0.118976</td>\n",
       "      <td>-0.476632</td>\n",
       "      <td>0.122213</td>\n",
       "      <td>0.211474</td>\n",
       "      <td>0.598845</td>\n",
       "    </tr>\n",
       "    <tr>\n",
       "      <th>language=Logical_nor_set-max_model_size=8-max-expr-len=5.xlsx</th>\n",
       "      <td>-0.069777</td>\n",
       "      <td>0.134316</td>\n",
       "      <td>-0.371027</td>\n",
       "      <td>0.109532</td>\n",
       "      <td>0.204093</td>\n",
       "      <td>0.480559</td>\n",
       "    </tr>\n",
       "    <tr>\n",
       "      <th>language=Logical_union_comp-max_model_size=8-max-expr-len=5.xlsx</th>\n",
       "      <td>-0.055268</td>\n",
       "      <td>0.105125</td>\n",
       "      <td>-0.367568</td>\n",
       "      <td>0.088458</td>\n",
       "      <td>0.160393</td>\n",
       "      <td>0.456026</td>\n",
       "    </tr>\n",
       "    <tr>\n",
       "      <th>language=Logical_union_comp_nocard-max_model_size=8-max-expr-len=5.xlsx</th>\n",
       "      <td>-0.202053</td>\n",
       "      <td>0.580904</td>\n",
       "      <td>-0.403661</td>\n",
       "      <td>0.254944</td>\n",
       "      <td>0.782957</td>\n",
       "      <td>0.658605</td>\n",
       "    </tr>\n",
       "    <tr>\n",
       "      <th>language=Logical_union_comp_nocard-max_model_size=8-max-expr-len=7.xlsx</th>\n",
       "      <td>-0.641162</td>\n",
       "      <td>0.461637</td>\n",
       "      <td>-0.941946</td>\n",
       "      <td>0.215302</td>\n",
       "      <td>1.102799</td>\n",
       "      <td>1.157248</td>\n",
       "    </tr>\n",
       "    <tr>\n",
       "      <th>language=Logical_union_comp_subset-max_model_size=8-max-expr-len=5.xlsx</th>\n",
       "      <td>-0.058627</td>\n",
       "      <td>0.105086</td>\n",
       "      <td>-0.285127</td>\n",
       "      <td>0.076706</td>\n",
       "      <td>0.163713</td>\n",
       "      <td>0.361833</td>\n",
       "    </tr>\n",
       "    <tr>\n",
       "      <th>language=Logical_union_diff-max_model_size=8-max-expr-len=5.xlsx</th>\n",
       "      <td>-0.060349</td>\n",
       "      <td>0.100346</td>\n",
       "      <td>-0.514798</td>\n",
       "      <td>0.142637</td>\n",
       "      <td>0.160694</td>\n",
       "      <td>0.657435</td>\n",
       "    </tr>\n",
       "    <tr>\n",
       "      <th>language=Logical_xor_and-max_model_size=8-max-expr-len=5.xlsx</th>\n",
       "      <td>-0.092498</td>\n",
       "      <td>0.118976</td>\n",
       "      <td>-0.476632</td>\n",
       "      <td>0.122213</td>\n",
       "      <td>0.211474</td>\n",
       "      <td>0.598845</td>\n",
       "    </tr>\n",
       "    <tr>\n",
       "      <th>language=Logical_xor_not-max_model_size=8-max-expr-len=5.xlsx</th>\n",
       "      <td>-0.773353</td>\n",
       "      <td>0.220958</td>\n",
       "      <td>-0.359164</td>\n",
       "      <td>0.126064</td>\n",
       "      <td>0.994311</td>\n",
       "      <td>0.485228</td>\n",
       "    </tr>\n",
       "    <tr>\n",
       "      <th>language=Logical_xor_only-max_model_size=8-max-expr-len=5.xlsx</th>\n",
       "      <td>-0.766084</td>\n",
       "      <td>0.227431</td>\n",
       "      <td>-0.340536</td>\n",
       "      <td>0.117453</td>\n",
       "      <td>0.993515</td>\n",
       "      <td>0.457990</td>\n",
       "    </tr>\n",
       "    <tr>\n",
       "      <th>language=Logical_xor_or-max_model_size=8-max-expr-len=5 (מעודכן.xlsx</th>\n",
       "      <td>-0.183451</td>\n",
       "      <td>0.122348</td>\n",
       "      <td>-0.423576</td>\n",
       "      <td>0.109486</td>\n",
       "      <td>0.305799</td>\n",
       "      <td>0.533062</td>\n",
       "    </tr>\n",
       "    <tr>\n",
       "      <th>language=Logical_xor_or-max_model_size=8-max-expr-len=5.xlsx</th>\n",
       "      <td>-0.183451</td>\n",
       "      <td>0.122348</td>\n",
       "      <td>-0.423576</td>\n",
       "      <td>0.109486</td>\n",
       "      <td>0.305799</td>\n",
       "      <td>0.533062</td>\n",
       "    </tr>\n",
       "  </tbody>\n",
       "</table>\n",
       "</div>"
      ],
      "text/plain": [
       "                                                   Monotonicity            \\\n",
       "                                                            YES        NO   \n",
       "language=Logical-max_model_size=8-max-expr-len=...    -0.046929  0.073625   \n",
       "language=Logical_and_comp-max_model_size=8-max-...    -0.048340  0.097483   \n",
       "language=Logical_and_comp_nocard-max_model_size...    -0.168838  0.759771   \n",
       "language=Logical_and_comp_subset-max_model_size...    -0.044587  0.087640   \n",
       "language=Logical_and_diff-max_model_size=8-max-...    -0.028719  0.057206   \n",
       "language=Logical_comp-max_model_size=8-max-expr...    -0.048807  0.075622   \n",
       "language=Logical_comp_nodiff-max_model_size=8-m...    -0.041227  0.072091   \n",
       "language=Logical_entail_comp-max_model_size=8-m...    -0.095914  0.139803   \n",
       "language=Logical_entail_diff-max_model_size=8-m...    -0.097415  0.130865   \n",
       "language=Logical_nand-max_model_size=8-max-expr...    -0.091616  0.117841   \n",
       "language=Logical_nand_set-max_model_size=8-max-...    -0.060003  0.131198   \n",
       "language=Logical_nor-max_model_size=8-max-expr-...    -0.092498  0.118976   \n",
       "language=Logical_nor_only-max_model_size=8-max-...    -0.092498  0.118976   \n",
       "language=Logical_nor_set-max_model_size=8-max-e...    -0.069777  0.134316   \n",
       "language=Logical_union_comp-max_model_size=8-ma...    -0.055268  0.105125   \n",
       "language=Logical_union_comp_nocard-max_model_si...    -0.202053  0.580904   \n",
       "language=Logical_union_comp_nocard-max_model_si...    -0.641162  0.461637   \n",
       "language=Logical_union_comp_subset-max_model_si...    -0.058627  0.105086   \n",
       "language=Logical_union_diff-max_model_size=8-ma...    -0.060349  0.100346   \n",
       "language=Logical_xor_and-max_model_size=8-max-e...    -0.092498  0.118976   \n",
       "language=Logical_xor_not-max_model_size=8-max-e...    -0.773353  0.220958   \n",
       "language=Logical_xor_only-max_model_size=8-max-...    -0.766084  0.227431   \n",
       "language=Logical_xor_or-max_model_size=8-max-ex...    -0.183451  0.122348   \n",
       "language=Logical_xor_or-max_model_size=8-max-ex...    -0.183451  0.122348   \n",
       "\n",
       "                                                   Consevativity            \\\n",
       "                                                             YES        NO   \n",
       "language=Logical-max_model_size=8-max-expr-len=...     -0.479839  0.114419   \n",
       "language=Logical_and_comp-max_model_size=8-max-...     -0.984538  0.222476   \n",
       "language=Logical_and_comp_nocard-max_model_size...     -0.317415  0.264513   \n",
       "language=Logical_and_comp_subset-max_model_size...     -0.636038  0.173678   \n",
       "language=Logical_and_diff-max_model_size=8-max-...     -1.026308  0.233562   \n",
       "language=Logical_comp-max_model_size=8-max-expr...     -0.485951  0.114423   \n",
       "language=Logical_comp_nodiff-max_model_size=8-m...     -0.443400  0.109339   \n",
       "language=Logical_entail_comp-max_model_size=8-m...     -0.609518  0.115973   \n",
       "language=Logical_entail_diff-max_model_size=8-m...     -0.824533  0.153343   \n",
       "language=Logical_nand-max_model_size=8-max-expr...     -0.475265  0.121863   \n",
       "language=Logical_nand_set-max_model_size=8-max-...     -0.561404  0.120604   \n",
       "language=Logical_nor-max_model_size=8-max-expr-...     -0.476632  0.122213   \n",
       "language=Logical_nor_only-max_model_size=8-max-...     -0.476632  0.122213   \n",
       "language=Logical_nor_set-max_model_size=8-max-e...     -0.371027  0.109532   \n",
       "language=Logical_union_comp-max_model_size=8-ma...     -0.367568  0.088458   \n",
       "language=Logical_union_comp_nocard-max_model_si...     -0.403661  0.254944   \n",
       "language=Logical_union_comp_nocard-max_model_si...     -0.941946  0.215302   \n",
       "language=Logical_union_comp_subset-max_model_si...     -0.285127  0.076706   \n",
       "language=Logical_union_diff-max_model_size=8-ma...     -0.514798  0.142637   \n",
       "language=Logical_xor_and-max_model_size=8-max-e...     -0.476632  0.122213   \n",
       "language=Logical_xor_not-max_model_size=8-max-e...     -0.359164  0.126064   \n",
       "language=Logical_xor_only-max_model_size=8-max-...     -0.340536  0.117453   \n",
       "language=Logical_xor_or-max_model_size=8-max-ex...     -0.423576  0.109486   \n",
       "language=Logical_xor_or-max_model_size=8-max-ex...     -0.423576  0.109486   \n",
       "\n",
       "                                                   Monotonicity Consevativity  \n",
       "                                                           diff          diff  \n",
       "language=Logical-max_model_size=8-max-expr-len=...     0.120554      0.594258  \n",
       "language=Logical_and_comp-max_model_size=8-max-...     0.145823      1.207014  \n",
       "language=Logical_and_comp_nocard-max_model_size...     0.928609      0.581928  \n",
       "language=Logical_and_comp_subset-max_model_size...     0.132227      0.809716  \n",
       "language=Logical_and_diff-max_model_size=8-max-...     0.085925      1.259870  \n",
       "language=Logical_comp-max_model_size=8-max-expr...     0.124429      0.600374  \n",
       "language=Logical_comp_nodiff-max_model_size=8-m...     0.113318      0.552740  \n",
       "language=Logical_entail_comp-max_model_size=8-m...     0.235717      0.725491  \n",
       "language=Logical_entail_diff-max_model_size=8-m...     0.228279      0.977876  \n",
       "language=Logical_nand-max_model_size=8-max-expr...     0.209457      0.597127  \n",
       "language=Logical_nand_set-max_model_size=8-max-...     0.191201      0.682008  \n",
       "language=Logical_nor-max_model_size=8-max-expr-...     0.211474      0.598845  \n",
       "language=Logical_nor_only-max_model_size=8-max-...     0.211474      0.598845  \n",
       "language=Logical_nor_set-max_model_size=8-max-e...     0.204093      0.480559  \n",
       "language=Logical_union_comp-max_model_size=8-ma...     0.160393      0.456026  \n",
       "language=Logical_union_comp_nocard-max_model_si...     0.782957      0.658605  \n",
       "language=Logical_union_comp_nocard-max_model_si...     1.102799      1.157248  \n",
       "language=Logical_union_comp_subset-max_model_si...     0.163713      0.361833  \n",
       "language=Logical_union_diff-max_model_size=8-ma...     0.160694      0.657435  \n",
       "language=Logical_xor_and-max_model_size=8-max-e...     0.211474      0.598845  \n",
       "language=Logical_xor_not-max_model_size=8-max-e...     0.994311      0.485228  \n",
       "language=Logical_xor_only-max_model_size=8-max-...     0.993515      0.457990  \n",
       "language=Logical_xor_or-max_model_size=8-max-ex...     0.305799      0.533062  \n",
       "language=Logical_xor_or-max_model_size=8-max-ex...     0.305799      0.533062  "
      ]
     },
     "execution_count": 202,
     "metadata": {},
     "output_type": "execute_result"
    }
   ],
   "source": [
    "table_2_df"
   ]
  },
  {
   "cell_type": "code",
   "execution_count": 174,
   "metadata": {},
   "outputs": [],
   "source": [
    "ttest_mono = st.ttest_ind(table_2_df[(\"Monotonicity\",\"YES\")],table_2_df[(\"Monotonicity\",\"NO\")],equal_var=False)"
   ]
  },
  {
   "cell_type": "code",
   "execution_count": 182,
   "metadata": {},
   "outputs": [
    {
     "data": {
      "text/plain": [
       "3e-07"
      ]
     },
     "execution_count": 182,
     "metadata": {},
     "output_type": "execute_result"
    }
   ],
   "source": [
    "round(ttest_mono.pvalue,7)"
   ]
  },
  {
   "cell_type": "code",
   "execution_count": 184,
   "metadata": {},
   "outputs": [],
   "source": [
    "ttest_con = st.ttest_ind(table_2_df[(\"Consevativity\",\"YES\")],table_2_df[(\"Consevativity\",\"NO\")],equal_var=False)"
   ]
  },
  {
   "cell_type": "code",
   "execution_count": 194,
   "metadata": {},
   "outputs": [
    {
     "data": {
      "text/plain": [
       "2e-14"
      ]
     },
     "execution_count": 194,
     "metadata": {},
     "output_type": "execute_result"
    }
   ],
   "source": [
    "round(ttest_con.pvalue,14)"
   ]
  },
  {
   "cell_type": "markdown",
   "metadata": {},
   "source": [
    "so this is significant"
   ]
  },
  {
   "cell_type": "code",
   "execution_count": 208,
   "metadata": {},
   "outputs": [
    {
     "data": {
      "text/plain": [
       "<matplotlib.axes._subplots.AxesSubplot at 0x249b82dfc48>"
      ]
     },
     "execution_count": 208,
     "metadata": {},
     "output_type": "execute_result"
    },
    {
     "data": {
      "image/png": "[encoded data removed]",
      "text/plain": [
       "<Figure size 432x288 with 1 Axes>"
      ]
     },
     "metadata": {
      "needs_background": "light"
     },
     "output_type": "display_data"
    }
   ],
   "source": [
    "table_2_df[(\"Monotonicity\",\"diff\")].plot.bar()"
   ]
  },
  {
   "cell_type": "code",
   "execution_count": 209,
   "metadata": {},
   "outputs": [],
   "source": [
    "langs = list(table_2_df.index)"
   ]
  },
  {
   "cell_type": "code",
   "execution_count": 215,
   "metadata": {},
   "outputs": [
    {
     "name": "stdout",
     "output_type": "stream",
     "text": [
      "['Logical', 'Logical_and_comp', 'Logical_and_comp_nocard', 'Logical_and_comp_subset', 'Logical_and_diff', 'Logical_comp', 'Logical_comp_nodiff', 'Logical_entail_comp', 'Logical_entail_diff', 'Logical_nand', 'Logical_nand_set', 'Logical_nor', 'Logical_nor_only', 'Logical_nor_set', 'Logical_union_comp', 'Logical_union_comp_nocard', 'Logical_union_comp_nocard', 'Logical_union_comp_subset', 'Logical_union_diff', 'Logical_xor_and', 'Logical_xor_not', 'Logical_xor_only', 'Logical_xor_or', 'Logical_xor_or']\n"
     ]
    }
   ],
   "source": [
    "new_langs = []\n",
    "for l in langs:\n",
    "    start = l.find(\"=\")+1\n",
    "    end = (l.find(\"-\"))\n",
    "    new_langs += [l[start:end]]\n",
    "print(new_langs)"
   ]
  },
  {
   "cell_type": "code",
   "execution_count": 216,
   "metadata": {},
   "outputs": [],
   "source": [
    "table_2_df.index = new_langs"
   ]
  },
  {
   "cell_type": "code",
   "execution_count": 223,
   "metadata": {},
   "outputs": [
    {
     "data": {
      "text/plain": [
       "Text(0.5, 1.0, 'diff in mean normalized ML between quantifiers with Monotonicity and without')"
      ]
     },
     "execution_count": 223,
     "metadata": {},
     "output_type": "execute_result"
    },
    {
     "data": {
      "image/png": "[encoded data removed]",
      "text/plain": [
       "<Figure size 432x288 with 1 Axes>"
      ]
     },
     "metadata": {
      "needs_background": "light"
     },
     "output_type": "display_data"
    }
   ],
   "source": [
    "ax = table_2_df[(\"Monotonicity\",\"diff\")].plot.bar()\n",
    "ax.set_title(\"diff in mean normalized ML between quantifiers with Monotonicity and without\")"
   ]
  },
  {
   "cell_type": "markdown",
   "metadata": {},
   "source": [
    "the nocard languages, and xor languages, has the most difference in mean ML between quantifiers with and without universals"
   ]
  },
  {
   "cell_type": "code",
   "execution_count": 225,
   "metadata": {},
   "outputs": [
    {
     "data": {
      "text/plain": [
       "Text(0.5, 1.0, 'diff in mean normalized ML between quantifiers with Conservativity and without')"
      ]
     },
     "execution_count": 225,
     "metadata": {},
     "output_type": "execute_result"
    },
    {
     "data": {
      "image/png": "[encoded data removed]",
      "text/plain": [
       "<Figure size 432x288 with 1 Axes>"
      ]
     },
     "metadata": {
      "needs_background": "light"
     },
     "output_type": "display_data"
    }
   ],
   "source": [
    "ax = table_2_df[(\"Consevativity\",\"diff\")].plot.bar()\n",
    "ax.set_title(\"diff in mean normalized ML between quantifiers with Conservativity and without\")"
   ]
  },
  {
   "cell_type": "code",
   "execution_count": 228,
   "metadata": {},
   "outputs": [
    {
     "data": {
      "text/html": [
       "<div>\n",
       "<style scoped>\n",
       "    .dataframe tbody tr th:only-of-type {\n",
       "        vertical-align: middle;\n",
       "    }\n",
       "\n",
       "    .dataframe tbody tr th {\n",
       "        vertical-align: top;\n",
       "    }\n",
       "\n",
       "    .dataframe thead th {\n",
       "        text-align: right;\n",
       "    }\n",
       "</style>\n",
       "<table border=\"1\" class=\"dataframe\">\n",
       "  <thead>\n",
       "    <tr style=\"text-align: right;\">\n",
       "      <th></th>\n",
       "      <th>YES</th>\n",
       "      <th>NO</th>\n",
       "      <th>diff</th>\n",
       "    </tr>\n",
       "  </thead>\n",
       "  <tbody>\n",
       "    <tr>\n",
       "      <th>Logical</th>\n",
       "      <td>-0.479839</td>\n",
       "      <td>0.114419</td>\n",
       "      <td>0.594258</td>\n",
       "    </tr>\n",
       "    <tr>\n",
       "      <th>Logical_and_comp</th>\n",
       "      <td>-0.984538</td>\n",
       "      <td>0.222476</td>\n",
       "      <td>1.207014</td>\n",
       "    </tr>\n",
       "    <tr>\n",
       "      <th>Logical_and_comp_nocard</th>\n",
       "      <td>-0.317415</td>\n",
       "      <td>0.264513</td>\n",
       "      <td>0.581928</td>\n",
       "    </tr>\n",
       "    <tr>\n",
       "      <th>Logical_and_comp_subset</th>\n",
       "      <td>-0.636038</td>\n",
       "      <td>0.173678</td>\n",
       "      <td>0.809716</td>\n",
       "    </tr>\n",
       "    <tr>\n",
       "      <th>Logical_and_diff</th>\n",
       "      <td>-1.026308</td>\n",
       "      <td>0.233562</td>\n",
       "      <td>1.259870</td>\n",
       "    </tr>\n",
       "    <tr>\n",
       "      <th>Logical_comp</th>\n",
       "      <td>-0.485951</td>\n",
       "      <td>0.114423</td>\n",
       "      <td>0.600374</td>\n",
       "    </tr>\n",
       "    <tr>\n",
       "      <th>Logical_comp_nodiff</th>\n",
       "      <td>-0.443400</td>\n",
       "      <td>0.109339</td>\n",
       "      <td>0.552740</td>\n",
       "    </tr>\n",
       "    <tr>\n",
       "      <th>Logical_entail_comp</th>\n",
       "      <td>-0.609518</td>\n",
       "      <td>0.115973</td>\n",
       "      <td>0.725491</td>\n",
       "    </tr>\n",
       "    <tr>\n",
       "      <th>Logical_entail_diff</th>\n",
       "      <td>-0.824533</td>\n",
       "      <td>0.153343</td>\n",
       "      <td>0.977876</td>\n",
       "    </tr>\n",
       "    <tr>\n",
       "      <th>Logical_nand</th>\n",
       "      <td>-0.475265</td>\n",
       "      <td>0.121863</td>\n",
       "      <td>0.597127</td>\n",
       "    </tr>\n",
       "    <tr>\n",
       "      <th>Logical_nand_set</th>\n",
       "      <td>-0.561404</td>\n",
       "      <td>0.120604</td>\n",
       "      <td>0.682008</td>\n",
       "    </tr>\n",
       "    <tr>\n",
       "      <th>Logical_nor</th>\n",
       "      <td>-0.476632</td>\n",
       "      <td>0.122213</td>\n",
       "      <td>0.598845</td>\n",
       "    </tr>\n",
       "    <tr>\n",
       "      <th>Logical_nor_only</th>\n",
       "      <td>-0.476632</td>\n",
       "      <td>0.122213</td>\n",
       "      <td>0.598845</td>\n",
       "    </tr>\n",
       "    <tr>\n",
       "      <th>Logical_nor_set</th>\n",
       "      <td>-0.371027</td>\n",
       "      <td>0.109532</td>\n",
       "      <td>0.480559</td>\n",
       "    </tr>\n",
       "    <tr>\n",
       "      <th>Logical_union_comp</th>\n",
       "      <td>-0.367568</td>\n",
       "      <td>0.088458</td>\n",
       "      <td>0.456026</td>\n",
       "    </tr>\n",
       "    <tr>\n",
       "      <th>Logical_union_comp_nocard</th>\n",
       "      <td>-0.403661</td>\n",
       "      <td>0.254944</td>\n",
       "      <td>0.658605</td>\n",
       "    </tr>\n",
       "    <tr>\n",
       "      <th>Logical_union_comp_nocard</th>\n",
       "      <td>-0.941946</td>\n",
       "      <td>0.215302</td>\n",
       "      <td>1.157248</td>\n",
       "    </tr>\n",
       "    <tr>\n",
       "      <th>Logical_union_comp_subset</th>\n",
       "      <td>-0.285127</td>\n",
       "      <td>0.076706</td>\n",
       "      <td>0.361833</td>\n",
       "    </tr>\n",
       "    <tr>\n",
       "      <th>Logical_union_diff</th>\n",
       "      <td>-0.514798</td>\n",
       "      <td>0.142637</td>\n",
       "      <td>0.657435</td>\n",
       "    </tr>\n",
       "    <tr>\n",
       "      <th>Logical_xor_and</th>\n",
       "      <td>-0.476632</td>\n",
       "      <td>0.122213</td>\n",
       "      <td>0.598845</td>\n",
       "    </tr>\n",
       "    <tr>\n",
       "      <th>Logical_xor_not</th>\n",
       "      <td>-0.359164</td>\n",
       "      <td>0.126064</td>\n",
       "      <td>0.485228</td>\n",
       "    </tr>\n",
       "    <tr>\n",
       "      <th>Logical_xor_only</th>\n",
       "      <td>-0.340536</td>\n",
       "      <td>0.117453</td>\n",
       "      <td>0.457990</td>\n",
       "    </tr>\n",
       "    <tr>\n",
       "      <th>Logical_xor_or</th>\n",
       "      <td>-0.423576</td>\n",
       "      <td>0.109486</td>\n",
       "      <td>0.533062</td>\n",
       "    </tr>\n",
       "    <tr>\n",
       "      <th>Logical_xor_or</th>\n",
       "      <td>-0.423576</td>\n",
       "      <td>0.109486</td>\n",
       "      <td>0.533062</td>\n",
       "    </tr>\n",
       "  </tbody>\n",
       "</table>\n",
       "</div>"
      ],
      "text/plain": [
       "                                YES        NO      diff\n",
       "Logical                   -0.479839  0.114419  0.594258\n",
       "Logical_and_comp          -0.984538  0.222476  1.207014\n",
       "Logical_and_comp_nocard   -0.317415  0.264513  0.581928\n",
       "Logical_and_comp_subset   -0.636038  0.173678  0.809716\n",
       "Logical_and_diff          -1.026308  0.233562  1.259870\n",
       "Logical_comp              -0.485951  0.114423  0.600374\n",
       "Logical_comp_nodiff       -0.443400  0.109339  0.552740\n",
       "Logical_entail_comp       -0.609518  0.115973  0.725491\n",
       "Logical_entail_diff       -0.824533  0.153343  0.977876\n",
       "Logical_nand              -0.475265  0.121863  0.597127\n",
       "Logical_nand_set          -0.561404  0.120604  0.682008\n",
       "Logical_nor               -0.476632  0.122213  0.598845\n",
       "Logical_nor_only          -0.476632  0.122213  0.598845\n",
       "Logical_nor_set           -0.371027  0.109532  0.480559\n",
       "Logical_union_comp        -0.367568  0.088458  0.456026\n",
       "Logical_union_comp_nocard -0.403661  0.254944  0.658605\n",
       "Logical_union_comp_nocard -0.941946  0.215302  1.157248\n",
       "Logical_union_comp_subset -0.285127  0.076706  0.361833\n",
       "Logical_union_diff        -0.514798  0.142637  0.657435\n",
       "Logical_xor_and           -0.476632  0.122213  0.598845\n",
       "Logical_xor_not           -0.359164  0.126064  0.485228\n",
       "Logical_xor_only          -0.340536  0.117453  0.457990\n",
       "Logical_xor_or            -0.423576  0.109486  0.533062\n",
       "Logical_xor_or            -0.423576  0.109486  0.533062"
      ]
     },
     "execution_count": 228,
     "metadata": {},
     "output_type": "execute_result"
    }
   ],
   "source": [
    "table_2_df[\"Consevativity\"]\n"
   ]
  },
  {
   "cell_type": "code",
   "execution_count": null,
   "metadata": {},
   "outputs": [],
   "source": [
    "formula = dependent_var + ' ~ ' + ' + '.join(independent_vars)\n",
    "    logit_model = sm.logit(formula=formula, data=data)\n",
    "    logit_estimates = logit_model.fit(disp=False, warn_convergence=True)\n",
    "    if print_summary:\n",
    "        print(logit_estimates.summary())\n",
    "    return(logit_estimates)"
   ]
  }
 ],
 "metadata": {
  "kernelspec": {
   "display_name": "Python 3",
   "language": "python",
   "name": "python3"
  },
  "language_info": {
   "codemirror_mode": {
    "name": "ipython",
    "version": 3
   },
   "file_extension": ".py",
   "mimetype": "text/x-python",
   "name": "python",
   "nbconvert_exporter": "python",
   "pygments_lexer": "ipython3",
   "version": "3.7.4"
  }
 },
 "nbformat": 4,
 "nbformat_minor": 2
}
